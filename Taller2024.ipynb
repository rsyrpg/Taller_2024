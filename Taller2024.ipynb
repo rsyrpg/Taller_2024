{
  "cells": [
    {
      "cell_type": "markdown",
      "id": "721dcc05-8de9-4def-904b-8a1ffe4d5fad",
      "metadata": {
        "id": "721dcc05-8de9-4def-904b-8a1ffe4d5fad"
      },
      "source": [
        "# <font color='red'>Introducción a Python</font>\n",
        "  ![alternatvie text](https://cursaonline.net/wp-content/uploads/2023/11/curso-online-de-introduccion-a-la-programacion-en-python-560x350.jpg.webp)\n",
        "\n",
        "**Python** es un lenguaje de programación de alto nivel, versátil y de propósito general que ha ganado una gran popularidad en los últimos años debido a su simplicidad y poder. Fue creado por Guido van Rossum y lanzado por primera vez en 1991. Su diseño está enfocado en la legibilidad del código, lo que lo convierte en una excelente opción tanto para principiantes como para programadores experimentados.\n",
        "\n",
        "## Características principales de Python\n",
        "\n",
        "- **Fácil de aprender y usar**: La sintaxis de Python es limpia y fácil de entender, lo que permite que los nuevos programadores se familiaricen rápidamente con el lenguaje. Además, es un lenguaje interpretado, lo que significa que no es necesario compilar el código para ejecutarlo, lo que facilita la escritura y ejecución de pequeños scripts de manera rápida.\n",
        "\n",
        "- **Gran comunidad y bibliotecas**: Python cuenta con una enorme comunidad de desarrolladores que contribuyen con bibliotecas y herramientas de código abierto, como *numpy*, *pandas*, *matplotlib* y *scipy* para la ciencia de datos, *tensorflow* y *scikit-learn* para machine learning, y *django* y *flask* para el desarrollo web. Estas bibliotecas hacen de Python una opción poderosa para realizar tareas complejas como análisis de datos, inteligencia artificial y desarrollo web.\n",
        "- **Versátil y multiplataforma**: Python se puede ejecutar en diferentes plataformas como Windows, MacOS, Linux, e incluso en dispositivos móviles. También se utiliza en diversas industrias, desde la automatización de tareas simples hasta el desarrollo de software avanzado, la ciencia de datos y la inteligencia artificial.\n",
        "- **Lenguaje de alto nivel**: Python permite escribir programas complejos de manera sencilla. Al ser un lenguaje de alto nivel, abstrae muchos detalles de bajo nivel, como la gestión de la memoria, lo que permite a los desarrolladores concentrarse en la lógica del problema.\n",
        "- **Interpretado y dinámico**: Python es un lenguaje interpretado, lo que significa que se ejecuta línea por línea, facilitando la depuración. También es dinámico, lo que quiere decir que no es necesario declarar explícitamente los tipos de variables; Python determina el tipo durante la ejecución del programa.\n",
        "### ¿Por qué usar Python?\n",
        "\n",
        "1. *Productividad*: Gracias a su sintaxis limpia y sus bibliotecas robustas, Python es un lenguaje altamente productivo. Permite escribir menos líneas de código para lograr más, en comparación con otros lenguajes.\n",
        "2. *Flexibilidad*: Desde el desarrollo web hasta la automatización, la ciencia de datos, machine learning y el desarrollo de aplicaciones, Python se adapta a una gran variedad de casos de uso.\n",
        "3. *Comunidad y Soporte*: Python tiene una de las comunidades más grandes y activas en el mundo de la programación, lo que significa que siempre hay soporte, tutoriales, documentación y proyectos de código abierto disponibles para aprender e implementar.\n",
        "#### Un Ejemplo Básico\n",
        "un ejemplo simple de Python que muestra cómo definir una función que suma dos números y la ejecuta:"
      ]
    },
    {
      "cell_type": "code",
      "execution_count": null,
      "id": "59385224-9e48-4750-84bb-90acaac6bc6f",
      "metadata": {
        "id": "59385224-9e48-4750-84bb-90acaac6bc6f"
      },
      "outputs": [],
      "source": [
        "\n",
        "\n",
        "\n",
        "# Definimos una función simple\n",
        "def suma(a, b):\n",
        "    return a + b\n",
        "a=10\n",
        "b=3\n",
        "print(\"La suma de 10 y 3 es:\", a+b)\n",
        "# Llamada a la función con dos números\n",
        "resultado = suma(10, 3)\n",
        "\n",
        "# Mostramos el resultado\n",
        "print(f\"La suma de 10 y 3 es: {resultado}\")"
      ]
    },
    {
      "cell_type": "markdown",
      "id": "87366a2d-1b3b-4b00-8b11-b9c2a38d04db",
      "metadata": {
        "id": "87366a2d-1b3b-4b00-8b11-b9c2a38d04db"
      },
      "source": [
        "Este sencillo ejemplo muestra cómo Python permite realizar operaciones básicas de manera rápida y eficiente, sin necesidad de manejar detalles complejos.\n",
        "\n",
        "\n",
        " #### Conclusión\n",
        "Python es un lenguaje de programación extremadamente versátil que se ha ganado su lugar en la industria tecnológica gracias a su simplicidad y potencia. Su facilidad de uso, junto con su capacidad para manejar tareas complejas, lo convierte en una herramienta esencial para desarrolladores, científicos de datos e ingenieros. Con Python, tanto principiantes como expertos pueden desarrollar soluciones rápidamente, aprovechando su rica colección de bibliotecas y su activa comunidad.\n"
      ]
    },
    {
      "cell_type": "markdown",
      "id": "c6673d4e-cb13-4293-bbb5-b58ca6e5d139",
      "metadata": {
        "id": "c6673d4e-cb13-4293-bbb5-b58ca6e5d139"
      },
      "source": [
        "#### Importar las librerías necesarias\n",
        "Importamos las librerías que nos permitirán realizar cálculos numéricos, resolver las ecuaciones diferenciales y visualizar los resultados."
      ]
    },
    {
      "cell_type": "markdown",
      "id": "77ac8bed-c72d-4a38-bde3-64dbccc902de",
      "metadata": {
        "id": "77ac8bed-c72d-4a38-bde3-64dbccc902de"
      },
      "source": [
        "### numpy\n",
        "#### Descripción\n",
        "- numpy es una librería fundamental para la computación numérica en Python.\n",
        "- Proporciona soporte para arrays y matrices multidimensionales, junto con una colección de funciones matemáticas de alto nivel para operar con estos arrays de manera eficiente.\n",
        "- Es ampliamente utilizada en ciencias, ingeniería y análisis de datos debido a su eficiencia y facilidad de uso.\n",
        "\n"
      ]
    },
    {
      "cell_type": "code",
      "execution_count": null,
      "id": "1d929673-ae29-4b6a-9e4c-5049ae299cc8",
      "metadata": {
        "id": "1d929673-ae29-4b6a-9e4c-5049ae299cc8"
      },
      "outputs": [],
      "source": [
        "import numpy as np"
      ]
    },
    {
      "cell_type": "markdown",
      "id": "434b53f8-9b1d-43a8-9c55-99f8665d81eb",
      "metadata": {
        "id": "434b53f8-9b1d-43a8-9c55-99f8665d81eb"
      },
      "source": [
        "- Ejemplos:\n",
        "- Crear arrays:"
      ]
    },
    {
      "cell_type": "code",
      "execution_count": null,
      "id": "3a0d38ee-6aba-4051-8a1f-c7a67ed529ab",
      "metadata": {
        "id": "3a0d38ee-6aba-4051-8a1f-c7a67ed529ab"
      },
      "outputs": [],
      "source": [
        "# Crear un array unidimensional\n",
        "a = np.array([1, 2, 3, 4, 5])\n",
        "# Crear una matriz bidimensional\n",
        "b = np.array([[1, 2], [3, 4]])\n",
        "a,b"
      ]
    },
    {
      "cell_type": "markdown",
      "id": "90cf1f14-5042-4dbd-acc1-a27f9579281b",
      "metadata": {
        "id": "90cf1f14-5042-4dbd-acc1-a27f9579281b"
      },
      "source": [
        "Operaciones matemáticas elementales:"
      ]
    },
    {
      "cell_type": "code",
      "execution_count": null,
      "id": "440849d8-362d-4e14-844f-3a7690b8f358",
      "metadata": {
        "id": "440849d8-362d-4e14-844f-3a7690b8f358"
      },
      "outputs": [],
      "source": [
        "# Sumar un escalar a cada elemento del array\n",
        "c = a + 10  # Resultado: [11, 12, 13, 14, 15]\n",
        "# Multiplicar dos matrices\n",
        "d = np.dot(b, b)  # Producto matricial de b por sí misma\n",
        "c,d\n"
      ]
    },
    {
      "cell_type": "markdown",
      "id": "1fa9093c-1b47-4f12-b8a8-86046966c43e",
      "metadata": {
        "id": "1fa9093c-1b47-4f12-b8a8-86046966c43e"
      },
      "source": [
        "Funciones matemáticas:"
      ]
    },
    {
      "cell_type": "code",
      "execution_count": null,
      "id": "f0f37066-2d04-4b6d-acab-4462d70d9f71",
      "metadata": {
        "id": "f0f37066-2d04-4b6d-acab-4462d70d9f71"
      },
      "outputs": [],
      "source": [
        "# Calcular el seno de cada elemento de un array\n",
        "angles = np.array([0, np.pi/2, np.pi])\n",
        "sines = np.sin(angles)  # Resultado: [0.0, 1.0, 0.0]\n",
        "angles,sines"
      ]
    },
    {
      "cell_type": "markdown",
      "id": "4d0c4ca3-bf18-428e-bf28-d9a743520e02",
      "metadata": {
        "id": "4d0c4ca3-bf18-428e-bf28-d9a743520e02"
      },
      "source": [
        "**Generar secuencias de números**:"
      ]
    },
    {
      "cell_type": "code",
      "execution_count": null,
      "id": "171135f7-d1e8-42a5-977a-8510fa91a975",
      "metadata": {
        "id": "171135f7-d1e8-42a5-977a-8510fa91a975"
      },
      "outputs": [],
      "source": [
        "# Crear una secuencia de números equiespaciados entre 0 y 1\n",
        "x = np.linspace(0, 1, 11)  # Resultado: array de 11 números entre 0 y 1\n",
        "x\n"
      ]
    },
    {
      "cell_type": "markdown",
      "id": "93d0d47b-8800-4661-9215-a7154a8372d9",
      "metadata": {
        "id": "93d0d47b-8800-4661-9215-a7154a8372d9"
      },
      "source": [
        "## matplotlib.pyplot\n",
        "\n"
      ]
    },
    {
      "cell_type": "code",
      "execution_count": null,
      "id": "28ea3f61-253e-4fde-9668-51d0491efe59",
      "metadata": {
        "id": "28ea3f61-253e-4fde-9668-51d0491efe59"
      },
      "outputs": [],
      "source": [
        "import matplotlib.pyplot as plt"
      ]
    },
    {
      "cell_type": "markdown",
      "id": "a9007f27-6faf-46b7-979d-a3384361d2a9",
      "metadata": {
        "id": "a9007f27-6faf-46b7-979d-a3384361d2a9"
      },
      "source": [
        "#### Descripción\n",
        "- matplotlib.pyplot es una colección de funciones que hacen que matplotlib funcione de manera similar a MATLAB.\n",
        "- Es la librería más utilizada en Python para crear gráficos y visualizaciones.\n",
        "- Permite generar una amplia variedad de gráficos: líneas, dispersión, histogramas, gráficos de barras, gráficos 3D, entre otros."
      ]
    },
    {
      "cell_type": "markdown",
      "id": "b9a58195-6697-4e0a-90fa-a8d36431103e",
      "metadata": {
        "id": "b9a58195-6697-4e0a-90fa-a8d36431103e"
      },
      "source": [
        "Crear un gráfico de líneas:"
      ]
    },
    {
      "cell_type": "code",
      "execution_count": null,
      "id": "0b51ba7f-30f7-44dc-8a8d-ed4e66e4231c",
      "metadata": {
        "id": "0b51ba7f-30f7-44dc-8a8d-ed4e66e4231c"
      },
      "outputs": [],
      "source": [
        "import numpy as np\n",
        "import matplotlib.pyplot as plt\n",
        "\n",
        "# Datos para graficar\n",
        "x = np.linspace(0, 10, 100)\n",
        "y = np.sin(x)\n",
        "\n",
        "# Crear el gráfico\n",
        "plt.plot(x, y)\n",
        "plt.xlabel('Eje X')\n",
        "plt.ylabel('Eje Y')\n",
        "plt.title('Gráfico de la función seno')\n",
        "plt.grid(True)\n",
        "plt.show()\n"
      ]
    },
    {
      "cell_type": "markdown",
      "id": "29e5466d-6144-45f3-ae7e-4e828da37b12",
      "metadata": {
        "id": "29e5466d-6144-45f3-ae7e-4e828da37b12"
      },
      "source": [
        "Crear un histograma:"
      ]
    },
    {
      "cell_type": "code",
      "execution_count": null,
      "id": "8b646a6b-4abc-4568-b4aa-9fc41766d520",
      "metadata": {
        "id": "8b646a6b-4abc-4568-b4aa-9fc41766d520"
      },
      "outputs": [],
      "source": [
        "# Datos aleatorios\n",
        "data = np.random.randn(1000)\n",
        "\n",
        "# Crear el histograma\n",
        "plt.hist(data, bins=30, color='blue', alpha=0.7)\n",
        "plt.xlabel('Valor')\n",
        "plt.ylabel('Frecuencia')\n",
        "plt.title('Histograma de datos aleatorios')\n",
        "plt.grid(True)\n",
        "plt.show()\n"
      ]
    },
    {
      "cell_type": "markdown",
      "id": "952d3074-3b9f-430b-8fca-08cedccb1f96",
      "metadata": {
        "id": "952d3074-3b9f-430b-8fca-08cedccb1f96"
      },
      "source": [
        "Crear un gráfico de dispersión:"
      ]
    },
    {
      "cell_type": "code",
      "execution_count": null,
      "id": "950e5a46-fa4c-4c1e-9beb-44b2a4a20523",
      "metadata": {
        "id": "950e5a46-fa4c-4c1e-9beb-44b2a4a20523"
      },
      "outputs": [],
      "source": [
        "# Datos aleatorios\n",
        "x = np.random.rand(1000)\n",
        "y = np.random.rand(1000)\n",
        "\n",
        "# Crear el gráfico de dispersión\n",
        "plt.scatter(x, y, c='blue', marker='x')\n",
        "plt.xlabel('Eje X')\n",
        "plt.ylabel('Eje Y')\n",
        "plt.title('Gráfico de dispersión')\n",
        "plt.grid(True)\n",
        "plt.show()\n"
      ]
    },
    {
      "cell_type": "markdown",
      "id": "1c684c03-3f16-492e-aa56-6f1d2804eb1a",
      "metadata": {
        "id": "1c684c03-3f16-492e-aa56-6f1d2804eb1a"
      },
      "source": [
        "## scipy.integrate.odeint"
      ]
    },
    {
      "cell_type": "code",
      "execution_count": null,
      "id": "fbae0da4-fd7e-4ffd-93f7-b9a183142143",
      "metadata": {
        "id": "fbae0da4-fd7e-4ffd-93f7-b9a183142143"
      },
      "outputs": [],
      "source": [
        "from scipy.integrate import odeint"
      ]
    },
    {
      "cell_type": "markdown",
      "id": "c397b8d1-e19d-407d-be8f-f7867b9f5d9d",
      "metadata": {
        "id": "c397b8d1-e19d-407d-be8f-f7867b9f5d9d"
      },
      "source": [
        "**Descripción**:\n",
        "\n",
        "- scipy es una librería que proporciona algoritmos y herramientas matemáticas y científicas adicionales sobre numpy.\n",
        "- El módulo integrate de scipy contiene funciones para integrar ecuaciones diferenciales ordinarias (EDOs), realizar cuadraturas y otras integraciones.\n",
        "- odeint es una función que resuelve sistemas de ecuaciones diferenciales ordinarias de primer orden."
      ]
    },
    {
      "cell_type": "markdown",
      "id": "2090b949-f2f2-4326-afe1-a3a0fdc5f080",
      "metadata": {
        "id": "2090b949-f2f2-4326-afe1-a3a0fdc5f080"
      },
      "source": [
        "**Ejemplos de lo que hace**:\n",
        "\n",
        "- Resolver una ecuación diferencial simple:\n",
        "\n",
        "Supongamos que tenemos la siguiente ecuación diferencial:\n",
        "\n",
        "$\\frac{dy}{dt}$= -$k$ $y$\n",
        "\n",
        "Donde $k$ es una constante.\n"
      ]
    },
    {
      "cell_type": "code",
      "execution_count": null,
      "id": "da0e9cee-bd21-46ab-93ef-f5c59fb3c400",
      "metadata": {
        "id": "da0e9cee-bd21-46ab-93ef-f5c59fb3c400"
      },
      "outputs": [],
      "source": [
        "import numpy as np\n",
        "from scipy.integrate import odeint\n",
        "import matplotlib.pyplot as plt\n",
        "\n",
        "# Definir la ecuación diferencial\n",
        "def modelo(y, t, k):\n",
        "    dydt = -k * y\n",
        "    return dydt\n",
        "\n",
        "# Condición inicial\n",
        "y0 = 5\n",
        "# Puntos de tiempo\n",
        "t = np.linspace(0, 20, 100)\n",
        "# Constante\n",
        "k = 0.3\n",
        "\n",
        "# Resolver la ecuación diferencial\n",
        "y = odeint(modelo, y0, t, args=(k,))\n",
        "\n",
        "# Graficar el resultado\n",
        "plt.plot(t, y)\n",
        "plt.xlabel('Tiempo')\n",
        "plt.ylabel('y(t)')\n",
        "plt.title('Solución de la EDO: dy/dt = -k y')\n",
        "plt.grid(True)\n",
        "plt.show()\n"
      ]
    },
    {
      "cell_type": "markdown",
      "id": "90fd05a2-7bfb-437a-93d9-85ac20a21339",
      "metadata": {
        "id": "90fd05a2-7bfb-437a-93d9-85ac20a21339"
      },
      "source": [
        "## networkx\n",
        "La biblioteca networkx es una potente herramienta en Python que se utiliza para la creación, manipulación y análisis de estructuras de datos llamadas grafos o redes. Los grafos son conjuntos de nodos (o vértices) conectados entre sí por aristas (o enlaces). Esta biblioteca es ampliamente utilizada en disciplinas como la ciencia de datos, la física, la biología computacional, las ciencias sociales, y la teoría de redes en general."
      ]
    },
    {
      "cell_type": "markdown",
      "id": "bce4f04e-61e0-43fe-9d54-e00d14d01359",
      "metadata": {
        "id": "bce4f04e-61e0-43fe-9d54-e00d14d01359"
      },
      "source": [
        "#### Introducción a NetworkX\n",
        "NetworkX permite modelar una gran variedad de problemas que involucran conexiones o relaciones entre objetos, como redes sociales, infraestructuras de transporte, redes eléctricas, o sistemas biológicos. En un grafo, los nodos pueden representar personas, ciudades, servidores, etc., mientras que las aristas representan relaciones o conexiones entre estos nodos, como amistades, rutas, o cables."
      ]
    },
    {
      "cell_type": "markdown",
      "id": "3f210eb5-3cee-422d-8558-0ccbc4d98b92",
      "metadata": {
        "id": "3f210eb5-3cee-422d-8558-0ccbc4d98b92"
      },
      "source": [
        "##### Características clave de NetworkX:\n",
        "1. **Grafos dirigidos y no dirigidos**: NetworkX soporta tanto grafos dirigidos (en los que las conexiones tienen una dirección) como no dirigidos (sin dirección). Por ejemplo, en una red social, una relación de \"seguir\" en *X* es un grafo dirigido, mientras que una amistad en Facebook es no dirigida.\n",
        "\n",
        "2. **Pesos en los grafos**: Las aristas pueden tener pesos asociados, que pueden representar cosas como distancias entre ciudades o la intensidad de una relación.\n",
        "\n",
        "3. **MultiGrafos**: NetworkX permite trabajar con MultiGrafos, que son grafos en los que puede haber múltiples aristas entre dos nodos.\n",
        "\n",
        "4. **Análisis de redes**: NetworkX incluye muchas funciones para el análisis de redes, como el cálculo de la centralidad, el análisis de caminos más cortos, la detección de comunidades, etc.\n",
        "\n",
        "5. **Lectura y escritura de archivos**: Puedes exportar e importar grafos desde archivos en varios formatos (como GraphML, GML, Pajek, Edgelist, etc.), lo que facilita el intercambio de datos.\n"
      ]
    },
    {
      "cell_type": "markdown",
      "id": "2c381961-0800-4645-a962-90e87f63144a",
      "metadata": {
        "id": "2c381961-0800-4645-a962-90e87f63144a"
      },
      "source": [
        "**Creación de un grafo simple**"
      ]
    },
    {
      "cell_type": "code",
      "execution_count": null,
      "id": "2af7b36e-8547-4498-ab1e-82d8b7279a74",
      "metadata": {
        "id": "2af7b36e-8547-4498-ab1e-82d8b7279a74"
      },
      "outputs": [],
      "source": [
        "import networkx as nx\n",
        "import matplotlib.pyplot as plt\n",
        "\n",
        "# Crear un grafo vacío\n",
        "G = nx.Graph()\n",
        "\n",
        "# Añadir nodos\n",
        "G.add_node(1)\n",
        "G.add_node(2)\n",
        "G.add_node(3)\n",
        "\n",
        "# Añadir aristas\n",
        "G.add_edge(1, 2)\n",
        "G.add_edge(2, 3)\n",
        "\n",
        "# Dibujar el grafo\n",
        "nx.draw(G, with_labels=True, node_color='lightblue', font_weight='bold')\n",
        "plt.show()\n"
      ]
    },
    {
      "cell_type": "markdown",
      "id": "f2730a69-78fc-45c4-b7ff-1202f38d8248",
      "metadata": {
        "id": "f2730a69-78fc-45c4-b7ff-1202f38d8248"
      },
      "source": [
        "**Explicación**:\n",
        "- nx.Graph() crea un grafo no dirigido vacío.\n",
        "- G.add_node() añade nodos al grafo.\n",
        "- G.add_edge() añade una arista (conexión) entre dos nodos.\n",
        "- nx.draw() dibuja el grafo de una forma visual usando matplotlib."
      ]
    },
    {
      "cell_type": "markdown",
      "id": "397bf9ea-0c57-489f-bc5e-e934b5650724",
      "metadata": {
        "id": "397bf9ea-0c57-489f-bc5e-e934b5650724"
      },
      "source": [
        "**Creación de un grafo dirigido**:"
      ]
    },
    {
      "cell_type": "code",
      "execution_count": null,
      "id": "09759021-dfcc-4df9-9a6e-5fea05fe9707",
      "metadata": {
        "id": "09759021-dfcc-4df9-9a6e-5fea05fe9707"
      },
      "outputs": [],
      "source": [
        "G = nx.DiGraph()  # Grafo dirigido\n",
        "G.add_edge('A', 'B')  # Añadir una arista de A a B\n",
        "G.add_edge('B', 'C')  # Añadir una arista de B a C\n",
        "G.add_edge('C', 'A')  # Añadir una arista de C a A\n",
        "\n",
        "# Dibujar el grafo dirigido\n",
        "nx.draw(G, with_labels=True, node_color='lightgreen', font_weight='bold', arrows=True)\n",
        "plt.show()\n"
      ]
    },
    {
      "cell_type": "markdown",
      "id": "23c40e94-6ec8-4548-abc0-e03ec52a7a38",
      "metadata": {
        "id": "23c40e94-6ec8-4548-abc0-e03ec52a7a38"
      },
      "source": [
        "Aquí, nx.DiGraph() crea un grafo dirigido. Las aristas tienen dirección, lo que se representa con flechas en la visualización.\n",
        "#### Tipos de grafos soportados en NetworkX:\n",
        "1. **Grafos no dirigidos**:\n",
        "- nx.Graph(): Grafo simple sin dirección en las aristas.\n",
        "2. **Grafos dirigidos**:\n",
        "- nx.DiGraph(): Grafo donde las aristas tienen una dirección (flechas).\n",
        "3. **MultiGrafos**:\n",
        "- nx.MultiGraph(): Grafo no dirigido que permite múltiples aristas entre nodos.\n",
        "- nx.MultiDiGraph(): Grafo dirigido que permite múltiples aristas entre nodos."
      ]
    },
    {
      "cell_type": "markdown",
      "id": "71796ec0-ccd2-4a47-a33f-462204b6b263",
      "metadata": {
        "id": "71796ec0-ccd2-4a47-a33f-462204b6b263"
      },
      "source": [
        "#### Funcionalidades avanzadas de NetworkX:\n",
        "1. Cálculo de medidas de centralidad: La centralidad es una medida que indica la importancia de un nodo en un grafo.\n",
        "\n",
        "Existen diferentes tipos de centralidades como:\n",
        "- Grado de centralidad: Basado en el número de conexiones que tiene un nodo.\n",
        "- Centralidad de cercanía: Mide lo \"cerca\" que está un nodo del resto de los nodos.\n",
        "- Centralidad de intermediación: Mide la frecuencia con la que un nodo aparece en los caminos más cortos entre otros nodos."
      ]
    },
    {
      "cell_type": "markdown",
      "id": "85244e40-6c2c-4f75-b3dd-3c21242097eb",
      "metadata": {
        "id": "85244e40-6c2c-4f75-b3dd-3c21242097eb"
      },
      "source": [
        "### Cálculo de la Centralidad de Grado en Grafos\n",
        "##### Centralidad de Grado\n",
        "La **centralidad de grado** mide cuántas conexiones (o aristas) tiene un nodo en relación con el número máximo de conexiones posibles en un grafo. Se utiliza ampliamente para determinar la importancia o influencia de un nodo dentro de una red. La centralidad de grado normalizada para un nodo $v$ en un grafo con $n$ nodos se define como: $ C_D(v) = \\frac{\\text{grado}(v)}{n-1} $\n",
        "\n",
        "Donde:\n",
        "- $C_D(v)$ es la centralidad de grado del nodo $v$,\n",
        "- $\\text{grado}(v)$ es el número de conexiones (o aristas) que tiene el nodo $v$,\n",
        "- $n$ es el número total de nodos en el grafo.\n",
        "\n",
        "El denominador $n-1$ representa el número máximo de conexiones posibles que un nodo puede tener, ya que un nodo puede estar conectado a los $n-1$ nodos restantes en un grafo simple sin bucles.\n",
        "\n",
        "#### Ejemplo de Cálculo\n",
        "\n",
        "Supongamos un grafo simple con 4 nodos $A$, $B$, $C$, y $D$, donde las conexiones son las siguientes:\n",
        "- $A \\leftrightarrow B$\n",
        "- $A \\leftrightarrow C$\n",
        "- $B \\leftrightarrow C$\n",
        "- $C \\leftrightarrow D$\n",
        "\n",
        "\n",
        "Este es un grafo con 4 nodos $n = 4$ y las conexiones se pueden representar como un conjunto de pares de nodos.\n",
        "\n",
        "#### Grado de cada nodo\n",
        "El grado de un nodo es el número de conexiones (aristas) que tiene. Para este grafo:\n",
        "- $\\text{grado}(A) = 2 $ (está conectado a $B$ y $C$),\n",
        "- $ \\text{grado}(B) = 2$ (está conectado a $A$ y $C$),\n",
        "- $\\text{grado}(C) = 3 $ (está conectado a $A$, $B$ y $D$),\n",
        "- $\\text{grado}(D) = 1 $ (está conectado a $C$).\n",
        "#### Cálculo de la Centralidad de Grado\n",
        "Para cada nodo, calculamos la centralidad de grado dividiendo el grado del nodo por $n-1 = 4-1 = 3$, ya que el máximo número de conexiones posibles es 3:\n",
        "$\n",
        "C_D(A) = \\frac{2}{3} \\approx 0.6667\n",
        "$\n",
        "$\n",
        "C_D(B) = \\frac{2}{3} \\approx 0.6667\n",
        "$\n",
        "$\n",
        "C_D(C) = \\frac{3}{3} = 1.0\n",
        "$\n",
        "$\n",
        "C_D(D) = \\frac{1}{3} \\approx 0.3333\n",
        "$\n",
        "\n",
        "Por lo tanto, las centralidades de grado para este grafo serían:\n",
        "\n",
        "- $C_D(A) = 0.6667$\n",
        "- $C_D(B) = 0.6667$\n",
        "- $C_D(C) = 1.0$\n",
        "- $C_D(D) = 0.3333$\n",
        "\n",
        "##### Cálculo en NetworkX\n",
        "\n",
        "En *NetworkX*, la centralidad de grado se puede calcular automáticamente utilizando el siguiente código en Python:\n",
        "\n",
        "**import networkx as nx**\n",
        "\n",
        "##### Crear el grafo\n",
        "- G = nx.Graph()\n",
        "- G.add_edges_from([('A', 'B'), ('A', 'C'), ('B', 'C'), ('C', 'D')])\n",
        "\n",
        "##### Calcular la centralidad de grado\n",
        "- centrality = nx.degree_centrality(G)\n",
        "##### Imprimir la centralidad de grado\n",
        "- print(centrality)\n",
        "\n",
        "\n",
        "- La salida de este código será:\n",
        "\n",
        "{'A': 0.6666666666666666, 'B': 0.6666666666666666, 'C': 1.0, 'D': 0.3333333333333333}\n",
        "\n",
        "Aquí se observa que la centralidad de grado para cada nodo es la misma que la calculada manualmente.\n",
        "\n",
        "##### Conclusión\n",
        "\n",
        "La centralidad de grado proporciona una manera simple y efectiva de medir la importancia de un nodo en un grafo basado en el número de conexiones que tiene. En grafos altamente conectados, los nodos con valores altos de centralidad de grado suelen ser considerados los más influyentes. La biblioteca *NetworkX* en Python facilita enormemente el cálculo y análisis de la centralidad de grado en grafos complejos.\n"
      ]
    },
    {
      "cell_type": "code",
      "execution_count": null,
      "id": "40531476-a108-4f91-85cc-9f2d69e12b77",
      "metadata": {
        "id": "40531476-a108-4f91-85cc-9f2d69e12b77"
      },
      "outputs": [],
      "source": [
        "centrality = nx.degree_centrality(G)  # Grado de centralidad\n",
        "print(centrality)"
      ]
    },
    {
      "cell_type": "markdown",
      "id": "9369de32-70b4-4793-9591-8616683747f4",
      "metadata": {
        "id": "9369de32-70b4-4793-9591-8616683747f4"
      },
      "source": [
        "# <font color='red'>Simulación de Propagación Epidémica utilizando el Modelo SIR ( Susceptibles, Infectados ,Recuperados)</font>\n",
        "\n",
        "## Introducción\n",
        "\n",
        "![alternatvie text](https://i.ytimg.com/vi/VKZFoogKGh8/hq720.jpg?sqp=-oaymwEhCK4FEIIDSFryq4qpAxMIARUAAAAAGAElAADIQj0AgKJD&rs=AOn4CLBumbldij8GImxQ2Ls51P32A3KPPQ)\n",
        "\n",
        "\n",
        "El **modelo SIR** es un modelo matemático fundamental utilizado en epidemiología para comprender la propagación de enfermedades infecciosas dentro de una población. Divide la población en tres compartimentos:\n",
        "\n",
        "1. Susceptibles (S): Individuos que son vulnerables a contraer la enfermedad.\n",
        "2. Infectados (I): Individuos que han sido infectados y pueden transmitir la enfermedad a individuos susceptibles.\n",
        "3. Recuperados (R): Individuos que se han recuperado de la enfermedad y han adquirido inmunidad.\n",
        "\n",
        "\n",
        "Al simular las transiciones entre estos compartimentos a lo largo del tiempo, el modelo SIR ayuda a predecir el curso de una epidemia y a evaluar el impacto potencial de intervenciones de salud pública.\n",
        "\n",
        "## Por qué es Interesante\n",
        "\n",
        "\n",
        "- **Relevancia** : A la luz de los recientes eventos de salud global, entender la dinámica de las enfermedades es más importante que nunca. El modelo SIR proporciona información sobre cómo se propagan las enfermedades y qué factores influyen en su progresión.\n",
        "- **Visualización**: Simular el modelo SIR nos permite visualizar el aumento y disminución de las infecciones a lo largo del tiempo, haciendo tangibles conceptos abstractos.\n",
        "- **Intervenciones**: Al ajustar los parámetros del modelo, podemos simular los efectos de intervenciones como la vacunación, el distanciamiento social y la cuarentena.\n",
        "\n",
        "\n",
        "## Formulación Matemática\n",
        "### Estructura del Modelo\n",
        "\n",
        "El modelo SIR utiliza un conjunto de ecuaciones diferenciales ordinarias (EDOs) para describir la tasa de cambio entre los compartimentos:\n",
        "1. Susceptibles (S)\n",
        "2. Infectados (I)\n",
        "3. Recuperados (R)\n",
        "\n",
        "![alternative text](\n",
        "https://encrypted-tbn0.gstatic.com/images?q=tbn:ANd9GcSimNS7MlXs0ZrhCZibdFd3jiIDmhlshnNXTA&s)\n",
        "\n",
        "### Ecuaciones Diferenciales\n",
        "El modelo se rige por las siguientes ecuaciones:\\\n",
        "$\\frac{dS}{dt}$ = $-\\beta$ $\\frac{S I}{N}$, \\\n",
        "$\\frac{dI}{dt}$= $\\beta$ $\\frac{S I}{N}$ - $\\gamma I$,\\\n",
        "$\\frac{dR}{dt}$= $\\gamma$ $I.$\n",
        "\n",
        "- $N$: Población total ($N = S + I + R$).\n",
        "- $\\beta$: Tasa de transmisión (con qué frecuencia un contacto susceptible-infectado resulta en una nueva infección).\n",
        "- $\\gamma$: Tasa de recuperación (la tasa a la que los individuos infectados se recuperan).\n",
        "### Explicación de las Ecuaciones\n",
        "1. **Ecuación de Susceptibles**  ($\\frac{dS}{dt}$):\n",
        "- Representa la tasa a la cual los individuos susceptibles se infectan.\n",
        "- El término $\\beta \\frac{S I}{N}$ indica que el número de nuevas infecciones es proporcional al número de individuos susceptibles e infectados.\n",
        "2. **Ecuación de Infectados** ($\\frac{dI}{dt}$):\n",
        "- Captura la dinámica de la población infectada.\n",
        "- Aumenta en la misma cantidad en que los individuos susceptibles se infectan.\n",
        "- Disminuye a medida que los individuos infectados se recuperan a una tasa $\\gamma I$.\n",
        "3. **Ecuación de Recuperados** ($\\frac{dR}{dt}$):\n",
        "- Representa la tasa a la cual los individuos infectados se recuperan y adquieren inmunidad.\n",
        "- Aumenta a medida que los individuos infectados se recuperan a una tasa $\\gamma I$.\n",
        "## Parámetros y su Significado\n",
        "1. Tasa de Transmisión ($\\beta$):\n",
        "- Determina qué tan rápido se propaga la enfermedad.\n",
        "- Una $\\beta$ más alta significa que más contactos resultan en nuevas infecciones.\n",
        "2. Tasa de Recuperación ($\\gamma$):\n",
        "- Determina qué tan rápido se recuperan los individuos infectados.\n",
        "- Una $\\gamma$ más alta significa que los individuos se recuperan más rápido, reduciendo el número de individuos infecciosos.\n",
        "3. Número Básico de Reproducción ($R_0$):\n",
        "- Definido como $R_0 = \\dfrac{\\beta}{\\gamma}$.\n",
        "- Representa el número promedio de infecciones secundarias producidas por un individuo infectado en una población completamente susceptible.\n",
        "- Si $R_0 > 1$, la enfermedad puede propagarse por la población.\n",
        "- Si $R_0 < 1$, la enfermedad eventualmente desaparecerá.\n",
        "## Relevancia y Aplicaciones\n",
        "- Evaluación de Intervenciones : Simula cómo estrategias como la vacunación o el distanciamiento social pueden aplanar la curva de infección.\n",
        "- Asignación de Recursos: Asiste en la planificación de necesidades de atención médica basándose en picos de infección proyectados.\n",
        "- Herramienta Educativa: Proporciona una forma tangible de entender la dinámica de las enfermedades y la importancia de las medidas preventivas.\n",
        "## Implementación Numérica\n",
        "### Resolución de Ecuaciones Diferenciales\n",
        "- Las ecuaciones diferenciales del modelo SIR no siempre tienen soluciones analíticas en forma cerrada.\n",
        "- Utilizamos **métodos numéricos** para aproximar las soluciones en pasos de tiempo discretos.\n",
        "- **El Método de Euler** y los **Métodos de Runge-Kutta** son técnicas numéricas comunes.\n",
        "- En Python, podemos utilizar *scipy.integrate.odeint* para resolver estas ecuaciones eficientemente.\n",
        "### Pasos Computacionales\n",
        "\n",
        "- **Importar Librerías Necesarias**:\n",
        "- *numpy*: Para cálculos numéricos y manipulación de arrays.\n",
        "- *matplotlib*: Para graficar los resultados de la simulación.\n",
        "- *scipy.integrate*: Para resolver las ecuaciones diferenciales.\n",
        "\n",
        "\n",
        "1. **Definir Parámetros**:\n",
        "\n",
        "- Establecer los valores de $N$, $\\beta$, $\\gamma$ y las condiciones iniciales ($S_0$, $I_0$, $R_0$).\n",
        "2. **Configurar la Grilla de Tiempo**:\n",
        "- Crear un array de puntos de tiempo sobre los cuales simular el modelo.\n",
        "3. **Implementar las Ecuaciones Diferenciales**:\n",
        "-Definir una función que devuelva las derivadas $\\dfrac{dS}{dt}$, $\\dfrac{dI}{dt}$ y $\\dfrac{dR}{dt}$.\n",
        "4. **Resolver las EDOs**:\n",
        "- Utilizar *odeint* para integrar las ecuaciones diferenciales sobre la grilla de tiempo.\n",
        "5. **Graficar los Resultados**:\n",
        "- Visualizar $S$, $I$ y $R$ a lo largo del tiempo para observar la progresión de la epidemia.\n",
        "## Visualización\n",
        "\n",
        "La visualización es crucial para entender la dinámica de la epidemia:\n",
        "- **Curva de Infección**: Muestra el número de individuos infectados a lo largo del tiempo.\n",
        "- **Pico de Infección**: Identifica cuándo ocurre el número máximo de infecciones.\n",
        "- **Impacto de Intervenciones**: Al alterar los parámetros, podemos visualizar cómo las intervenciones afectan la propagación.\n",
        "## Antes de Presentar el Código\n",
        "### Descripción de la Estructura del Código\n",
        "\n",
        "1. Importación de Librerías:\n",
        "- Comenzaremos importando *numpy*, *matplotlib.pyplot* y *scipy.integrate.odeint*.\n",
        "2. Definición de Parámetros:\n",
        "- **Población Total** ($N$): El tamaño de la población.\n",
        "- Número Inicial de Individuos Infectados y Recuperados ($I_0$, $R_0$):\n",
        "- $I_0$: Individuos infectados inicialmente.\n",
        "- $R_0$: Individuos recuperados inicialmente (usualmente cero en una población naive).\n",
        "- **Individuos Susceptibles** ($S_0 = N - I_0 - R_0$).\n",
        "3. Tasas de Transmisión y Recuperación ($\\beta$, $\\gamma$):\n",
        "- Establecidas basándose en las características de la enfermedad.\n",
        "4. Grilla de Tiempo:\n",
        "- Crear un array de puntos de tiempo para la simulación (e.g., 160 días).\n",
        "5. Función de Ecuaciones Diferenciales:\n",
        "- Definir una función **deriv(y, t, N, beta, gamma)** que calcule las derivadas.\n",
        "6. Vector de Condiciones Iniciales:\n",
        "- Combinar $S_0$, $I_0$ y $R_0$ en un vector de estado inicial *y0*.\n",
        "7. Integrar las Ecuaciones:\n",
        "- Utilizar **odeint** para resolver las ecuaciones sobre la grilla de tiempo.\n",
        "8. Extraer Resultados:\n",
        "- Separar los resultados en arrays $S$, $I$ y $R$.\n",
        "9. Graficar los Resultados:\n",
        "- Utilizar **matplotlib** para graficar las fracciones de $S/N$, $I/N$ y $R/N$ a lo largo del tiempo.\n",
        "10. Analizar la Salida}:\n",
        "- Interpretar los gráficos para entender la progresión de la epidemia y el impacto de diferentes parámetros.\n",
        "## Entendiendo los Resultados Esperados\n",
        "\n",
        "Al ejecutar la simulación, podemos observar:\n",
        "\n",
        "- Umbral Epidémico: Determinado por $R_0$.\n",
        "- Inmunidad de Rebaño: El punto en el que suficientes individuos se han recuperado, reduciendo la población susceptible y deteniendo la propagación.\n",
        "- Efecto de los Parámetros:\n",
        "    - Aumentar $\\beta$ conduce a un brote más rápido y grande.\n",
        "    - Aumentar $\\gamma$ resulta en una recuperación más rápida, potencialmente reduciendo el pico de la epidemia.\n",
        "\n",
        "\n",
        "## Escenarios y Experimentos Potenciales\n",
        "\n",
        "- Escenario Base: Ejecutar el modelo con parámetros iniciales para establecer una referencia.\n",
        "- Variación de Parámetros:\n",
        "    - Mayor Tasa de Transmisión: Simular el impacto de una enfermedad más contagiosa.\n",
        "    - Mayor Tasa de Recuperación: Modelar los efectos de intervenciones médicas mejoradas.\n",
        "- Estrategias de Intervención}:\n",
        "    - Introducir vacunación reduciendo la población susceptible.\n",
        "    - Implementar distanciamiento social disminuyendo $\\beta$.\n",
        "\n",
        "## Conclusión\n",
        "\n",
        "El modelo SIR es una herramienta poderosa para entender la propagación de enfermedades infecciosas. Al simular diferentes escenarios, obtenemos valiosas perspectivas sobre:\n",
        "\n",
        "- Dinámica de la Enfermedad : Cómo las infecciones aumentan y disminuyen con el tiempo.\n",
        "- **Factores Críticos**: El papel de las tasas de transmisión y recuperación en la configuración de una epidemia.\n",
        "- **Impacto de las Intervenciones**: Cómo las medidas de salud pública pueden alterar el curso de un brote.\n",
        "\n",
        "\n",
        "## Implementación en Python\n",
        "\n",
        "Ahora que hemos establecido la base teórica, procedamos a implementar el modelo SIR utilizando Python. El código sigue la estructura descrita anteriormente, permitiéndonos simular y visualizar la propagación epidémica.\n",
        "\n",
        "\n"
      ]
    },
    {
      "cell_type": "markdown",
      "id": "7d7ee75c-d9f1-48ef-b208-cad0ac0cb1a7",
      "metadata": {
        "id": "7d7ee75c-d9f1-48ef-b208-cad0ac0cb1a7"
      },
      "source": [
        "Aplicación en el código SIR:\n",
        "- **numpy** se utiliza para manejar los arrays que representan el tiempo y las poblaciones susceptibles, infectadas y recuperadas.\n",
        "- Permite realizar cálculos vectorizados eficientes en las ecuaciones diferenciales."
      ]
    },
    {
      "cell_type": "markdown",
      "id": "6ffce81f-7d10-42b5-be7e-5218bb1a2c62",
      "metadata": {
        "id": "6ffce81f-7d10-42b5-be7e-5218bb1a2c62"
      },
      "source": [
        "**Aplicación en el código SIR**:\n",
        "\n",
        "- *matplotlib.pyplot* se utiliza para graficar las proporciones de poblaciones susceptibles, infectadas y recuperadas a lo largo del tiempo.\n",
        "- Facilita la visualización de la evolución de la epidemia y la interpretación de los resultados."
      ]
    },
    {
      "cell_type": "markdown",
      "id": "835e145b-b960-402f-a671-bd2b43903dd8",
      "metadata": {
        "id": "835e145b-b960-402f-a671-bd2b43903dd8"
      },
      "source": [
        "**Aplicación en el código SIR**:\n",
        "\n",
        "- *odeint* se utiliza para resolver las ecuaciones diferenciales del modelo SIR, que describen cómo cambian las poblaciones susceptibles, infectadas y recuperadas a lo largo del tiempo.\n",
        "- Permite obtener soluciones numéricas precisas para sistemas de ecuaciones que no tienen soluciones analíticas sencillas."
      ]
    },
    {
      "cell_type": "markdown",
      "id": "d9224be2-e78f-43d8-b7c2-717aad6e698f",
      "metadata": {
        "id": "d9224be2-e78f-43d8-b7c2-717aad6e698f"
      },
      "source": [
        "### Definir los parámetros iniciales\n",
        "- Población total (N): Definimos el tamaño total de la población que estamos estudiando.\n",
        "- Condiciones iniciales:\n",
        "  - I0: Número inicial de individuos infectados.\n",
        "  - R0: Número inicial de individuos recuperados.\n",
        "  - S0: Número inicial de individuos susceptibles (el resto de la población).\n",
        "- Parámetros del modelo:\n",
        "- beta: Tasa de contacto efectiva (probabilidad de transmisión en un contacto).\n",
        "- gamma: Tasa de recuperación (recíproco del período infeccioso promedio).\n",
        "- Grilla de tiempo (t): Creamos una serie de puntos en el tiempo donde se evaluarán las ecuaciones."
      ]
    },
    {
      "cell_type": "code",
      "execution_count": null,
      "id": "5ab6a06f-20a4-4a96-b34e-c0247632a945",
      "metadata": {
        "id": "5ab6a06f-20a4-4a96-b34e-c0247632a945"
      },
      "outputs": [],
      "source": [
        "# Población total\n",
        "N = 1000\n",
        "# Número inicial de individuos infectados y recuperados\n",
        "I0, R0 = 1, 0\n",
        "# El resto de la población es susceptible\n",
        "S0 = N - I0 - R0\n",
        "# Tasa de contacto y tasa de recuperación\n",
        "beta, gamma = 0.3, 0.1\n",
        "# Puntos de tiempo (días)\n",
        "t = np.linspace(0, 160, 160)\n"
      ]
    },
    {
      "cell_type": "markdown",
      "id": "84ab666f-08c9-4d90-8170-df50e2c4d997",
      "metadata": {
        "id": "84ab666f-08c9-4d90-8170-df50e2c4d997"
      },
      "source": [
        "## Definir las ecuaciones diferenciales del modelo SIR\n",
        "La función deriv calcula las derivadas de S, I y R en un instante dado. Estas ecuaciones representan el cambio en el número de individuos en cada compartimento:\n",
        "- dS/dt: Tasa de cambio de susceptibles.\n",
        "- dI/dt: Tasa de cambio de infectados.\n",
        "- dR/dt: Tasa de cambio de recuperados."
      ]
    },
    {
      "cell_type": "code",
      "execution_count": null,
      "id": "b3a9644f-4576-4c27-8d12-bdca4ee98e05",
      "metadata": {
        "id": "b3a9644f-4576-4c27-8d12-bdca4ee98e05"
      },
      "outputs": [],
      "source": [
        "# Ecuaciones diferenciales del modelo SIR\n",
        "def deriv(y, t, N, beta, gamma):\n",
        "    S, I, R = y\n",
        "    # Tasa de cambio de susceptibles\n",
        "    dSdt = -beta * S * I / N\n",
        "    # Tasa de cambio de infectados\n",
        "    dIdt = beta * S * I / N - gamma * I\n",
        "    # Tasa de cambio de recuperados\n",
        "    dRdt = gamma * I\n",
        "    return dSdt, dIdt, dRdt\n"
      ]
    },
    {
      "cell_type": "markdown",
      "id": "3e7ed443-50a4-4a68-8744-fccf23eb1d6b",
      "metadata": {
        "id": "3e7ed443-50a4-4a68-8744-fccf23eb1d6b"
      },
      "source": [
        "## Vector de condiciones iniciales\n",
        "Agrupamos las condiciones iniciales en un solo vector y0 que será utilizado por el integrador."
      ]
    },
    {
      "cell_type": "code",
      "execution_count": null,
      "id": "759b6d1f-344b-4ff3-9142-eb5f86fa923e",
      "metadata": {
        "id": "759b6d1f-344b-4ff3-9142-eb5f86fa923e"
      },
      "outputs": [],
      "source": [
        "# Vector de condiciones iniciales\n",
        "y0 = S0, I0, R0"
      ]
    },
    {
      "cell_type": "markdown",
      "id": "38a950d1-fa92-44e2-a439-1f7cab33f876",
      "metadata": {
        "id": "38a950d1-fa92-44e2-a439-1f7cab33f876"
      },
      "source": [
        "## Integrar las ecuaciones diferenciales\n",
        "Utilizamos el integrador *odeint* para resolver las ecuaciones diferenciales del modelo *SIR* a lo largo de la grilla de tiempo *t*. El resultado *ret* es una matriz donde cada columna corresponde a *S*, *I* y *R* en cada punto de tiempo."
      ]
    },
    {
      "cell_type": "code",
      "execution_count": null,
      "id": "ee436d0f-9927-48ec-968d-bd602da3afa6",
      "metadata": {
        "id": "ee436d0f-9927-48ec-968d-bd602da3afa6"
      },
      "outputs": [],
      "source": [
        "# Integrar las ecuaciones SIR en la grilla de tiempo\n",
        "ret = odeint(deriv, y0, t, args=(N, beta, gamma))\n",
        "# Transponer los resultados para obtener S, I y R por separado\n",
        "S, I, R = ret.T\n"
      ]
    },
    {
      "cell_type": "markdown",
      "id": "74632cc5-d1a6-420a-9e80-e0edfe17a45d",
      "metadata": {
        "id": "74632cc5-d1a6-420a-9e80-e0edfe17a45d"
      },
      "source": [
        "## Graficar los resultados\n",
        "Creamos una figura y graficamos las proporciones de individuos susceptibles, infectados y recuperados a lo largo del tiempo. Añadimos etiquetas, título, leyenda y cuadrícula para mejorar la legibilidad del gráfico."
      ]
    },
    {
      "cell_type": "code",
      "execution_count": null,
      "id": "86613138-9390-4347-a9c1-5d516a676920",
      "metadata": {
        "id": "86613138-9390-4347-a9c1-5d516a676920"
      },
      "outputs": [],
      "source": [
        "# Graficar los datos\n",
        "plt.figure(figsize=(8,6))\n",
        "plt.plot(t, S/N, 'b', lw=2, label='Susceptibles')\n",
        "plt.plot(t, I/N, 'r', lw=2, label='Infectados')\n",
        "plt.plot(t, R/N, 'g', lw=2, label='Recuperados')\n",
        "plt.xlabel('Tiempo (días)')\n",
        "plt.ylabel('Proporción de la población')\n",
        "plt.title('Simulación del Modelo SIR')\n",
        "plt.legend()\n",
        "plt.grid(True)\n",
        "plt.show()\n"
      ]
    },
    {
      "cell_type": "markdown",
      "id": "a489e7b8-3ce4-40aa-8568-89449e2f04f4",
      "metadata": {
        "id": "a489e7b8-3ce4-40aa-8568-89449e2f04f4"
      },
      "source": [
        "## Interpretación del gráfico\n",
        "El gráfico resultante muestra cómo evoluciona la epidemia a lo largo del tiempo:\n",
        "\n",
        "- Línea azul (Susceptibles): Disminuye con el tiempo a medida que más individuos se infectan.\n",
        "- Línea roja (Infectados): Aumenta inicialmente, alcanzando un pico cuando el número de susceptibles es suficiente para mantener la propagación, y luego disminuye a medida que los individuos se recuperan.\n",
        "- Línea verde (Recuperados): Aumenta con el tiempo a medida que los individuos infectados se recuperan y adquieren inmunidad.\n",
        "Este modelo permite visualizar y entender la dinámica básica de una epidemia y cómo los parámetros afectan su evolución."
      ]
    },
    {
      "cell_type": "markdown",
      "id": "088930ac-97a4-420b-aa4b-5fe0de5f63d8",
      "metadata": {
        "id": "088930ac-97a4-420b-aa4b-5fe0de5f63d8"
      },
      "source": [
        "## Experimenta con los parámetros\n",
        "Puedes modificar los valores de beta y gamma para simular diferentes escenarios:\n",
        "- Aumentar *beta*: Simula una enfermedad más contagiosa, lo que conduce a un pico más alto y temprano de infectados.\n",
        "- Aumentar *gamma*: Representa una tasa de recuperación más rápida, lo que reduce la duración de la enfermedad y puede disminuir el pico de infectados.\n",
        "- Cambiar *$I_0$*: Modifica el número inicial de infectados para ver cómo afecta al inicio de la epidemia."
      ]
    },
    {
      "cell_type": "code",
      "execution_count": null,
      "id": "63237aee-aa49-4c3f-883d-e9d624b63ed0",
      "metadata": {
        "id": "63237aee-aa49-4c3f-883d-e9d624b63ed0"
      },
      "outputs": [],
      "source": [
        "import numpy as np\n",
        "import matplotlib.pyplot as plt\n",
        "from scipy.integrate import odeint\n",
        "\n",
        "# Total population\n",
        "N = 1000\n",
        "# Initial number of infected and recovered individuals\n",
        "I0, R0 = 1, 0\n",
        "# Everyone else is susceptible\n",
        "S0 = N - I0 - R0\n",
        "# Contact rate and recovery rate\n",
        "beta, gamma = 0.3, 0.1\n",
        "# Time points (days)\n",
        "t = np.linspace(0, 160, 160)\n",
        "\n",
        "# SIR model differential equations\n",
        "def deriv(y, t, N, beta, gamma):\n",
        "    S, I, R = y\n",
        "    dSdt = -beta * S * I / N      # Susceptible\n",
        "    dIdt = beta * S * I / N - gamma * I  # Infected\n",
        "    dRdt = gamma * I              # Recovered\n",
        "    return dSdt, dIdt, dRdt\n",
        "\n",
        "# Initial conditions vector\n",
        "y0 = S0, I0, R0\n",
        "\n",
        "# Integrate the SIR equations over the time grid\n",
        "ret = odeint(deriv, y0, t, args=(N, beta, gamma))\n",
        "S, I, R = ret.T\n",
        "\n",
        "# Graficar los datos\n",
        "plt.figure(figsize=(8,6))\n",
        "plt.plot(t, S/N, 'b', lw=2, label='Susceptibles')\n",
        "plt.plot(t, I/N, 'r', lw=2, label='Infectados')\n",
        "plt.plot(t, R/N, 'g', lw=2, label='Recuperados')\n",
        "plt.xlabel('Tiempo (días)')\n",
        "plt.ylabel('Proporción de la población')\n",
        "plt.title('Simulación del Modelo SIR')\n",
        "plt.legend()\n",
        "plt.grid(True)\n",
        "plt.show()\n"
      ]
    },
    {
      "cell_type": "markdown",
      "id": "e0e903f7-c76d-44dc-a830-0b75e1827ef0",
      "metadata": {
        "id": "e0e903f7-c76d-44dc-a830-0b75e1827ef0"
      },
      "source": [
        "# <font color='red'>Introducción al Modelo de Barabási–Albert </font>\n",
        "\n",
        "![alternative text](https://encrypted-tbn0.gstatic.com/images?q=tbn:ANd9GcSQ81jQODSL0rL2bK4WcPcK62zNgLJ8sjQ8jg&s)\n",
        "\n",
        "El **Modelo de Barabási–Albert** es un modelo matemático utilizado para generar redes libres de escala (scale-free networks), que son redes complejas caracterizadas por la presencia de unos pocos nodos altamente conectados (conocidos como hubs) y muchos nodos con pocas conexiones."
      ]
    },
    {
      "cell_type": "markdown",
      "id": "ffd85528-e93f-401a-a36d-29d6651f9322",
      "metadata": {
        "id": "ffd85528-e93f-401a-a36d-29d6651f9322"
      },
      "source": [
        "## Características del Modelo\n",
        "1. Crecimiento de la Red:\n",
        "\n",
        "- La red se construye añadiendo nodos nuevos de forma secuencial.\n",
        "- Cada nuevo nodo se conecta a un número fijo de nodos existentes.\n",
        "\n",
        "\n",
        "2. Adjunto Preferencial:\n",
        "- Los nuevos nodos tienen una mayor probabilidad de conectarse a nodos que ya tienen un alto grado (muchas conexiones).\n",
        "- Esto refleja el fenómeno de \"el rico se hace más rico\" o \"la ventaja acumulativa\".\n",
        "3. Distribución de Grado de Potencia:\n",
        "- La distribución de grados de la red sigue una ley de potencia.\n",
        "- Indica que hay muchos nodos con pocas conexiones y unos pocos nodos con muchas conexiones."
      ]
    },
    {
      "cell_type": "markdown",
      "id": "9aabd851-ad4e-4761-b1c3-c820cc592b09",
      "metadata": {
        "id": "9aabd851-ad4e-4761-b1c3-c820cc592b09"
      },
      "source": [
        "## Importancia y Aplicaciones\n",
        "**Redes Sociales**:\n",
        "- Modela cómo las personas se conectan en redes sociales.\n",
        "- Explica la existencia de individuos con gran influencia (influencers) debido a su alto número de conexiones.\\\n",
        "**Internet y WWW**:\n",
        "- Ayuda a entender la estructura de enlaces entre páginas web.\n",
        "- Los sitios web más populares reciben más enlaces entrantes, incrementando su visibilidad.\\\n",
        "**Biología y Genómica**:\n",
        "- Estudia redes de interacción de proteínas y genes.\n",
        "- Identifica proteínas clave que interactúan con muchas otras.\\\n",
        "**Transporte y Comunicación**:\n",
        "- Analiza redes de aerolíneas donde ciertos aeropuertos sirven como hubs principales."
      ]
    },
    {
      "cell_type": "markdown",
      "id": "0850484d-559f-4b2d-b905-97d51a8ea06a",
      "metadata": {
        "id": "0850484d-559f-4b2d-b905-97d51a8ea06a"
      },
      "source": [
        "## Propiedades de las Redes Libres de Escala\n",
        "1. **Robustez**:\n",
        "- Son resistentes a fallos aleatorios, ya que la mayoría de los nodos tienen pocas conexiones.\n",
        "2. **Vulnerabilidad**:\n",
        "- Son sensibles a ataques dirigidos a los hubs.\n",
        "- La eliminación de nodos altamente conectados puede fragmentar la red.\n",
        "3. **Eficiencia de Comunicación**:\n",
        "- Facilitan rutas cortas entre nodos debido a la presencia de hubs."
      ]
    },
    {
      "cell_type": "markdown",
      "id": "f60b184a-69f9-4e50-bb74-43e9dbdc80b2",
      "metadata": {
        "id": "f60b184a-69f9-4e50-bb74-43e9dbdc80b2"
      },
      "source": [
        "### Importar librerías necesarias:"
      ]
    },
    {
      "cell_type": "code",
      "execution_count": null,
      "id": "6a387aec-de4f-4fe3-a55a-a3acd4fe2fe6",
      "metadata": {
        "id": "6a387aec-de4f-4fe3-a55a-a3acd4fe2fe6"
      },
      "outputs": [],
      "source": [
        "import networkx as nx\n",
        "import matplotlib.pyplot as plt"
      ]
    },
    {
      "cell_type": "markdown",
      "id": "89d3a661-6304-43e0-b1ce-6e0f6ec6387c",
      "metadata": {
        "id": "89d3a661-6304-43e0-b1ce-6e0f6ec6387c"
      },
      "source": [
        "- networkx es una librería para la creación, manipulación y estudio de la estructura, dinámica y funciones de redes complejas.\n",
        "- matplotlib.pyplot es una librería para la generación de gráficos en Python."
      ]
    },
    {
      "cell_type": "markdown",
      "id": "7d83efef-475b-454f-b499-a4ef9b2369fa",
      "metadata": {
        "id": "7d83efef-475b-454f-b499-a4ef9b2369fa"
      },
      "source": [
        "### Crear una red de Barabási–Albert:"
      ]
    },
    {
      "cell_type": "code",
      "execution_count": null,
      "id": "cd44289d-964d-483e-a4d8-e751d923d9b0",
      "metadata": {
        "id": "cd44289d-964d-483e-a4d8-e751d923d9b0"
      },
      "outputs": [],
      "source": [
        "G = nx.barabasi_albert_graph(n=100, m=2)"
      ]
    },
    {
      "cell_type": "markdown",
      "id": "a9c7e8e0-38ab-40fd-a069-0e201b95c737",
      "metadata": {
        "id": "a9c7e8e0-38ab-40fd-a069-0e201b95c737"
      },
      "source": [
        "- Genera una red libre de escala con 100 nodos donde cada nuevo nodo se conecta a 2 nodos existentes con probabilidad proporcional al grado de los nodos existentes."
      ]
    },
    {
      "cell_type": "markdown",
      "id": "0fdaab2c-71d6-49aa-a7ea-c94319f996e3",
      "metadata": {
        "id": "0fdaab2c-71d6-49aa-a7ea-c94319f996e3"
      },
      "source": [
        "### Calcular medidas de centralidad:"
      ]
    },
    {
      "cell_type": "code",
      "execution_count": null,
      "id": "f8c21169-3c7f-434c-ae2c-dae1261f5258",
      "metadata": {
        "id": "f8c21169-3c7f-434c-ae2c-dae1261f5258"
      },
      "outputs": [],
      "source": [
        "centralidad_grado = nx.degree_centrality(G)"
      ]
    },
    {
      "cell_type": "markdown",
      "id": "3a439bdd-efc8-45ea-bdd3-5b00d901d5c3",
      "metadata": {
        "id": "3a439bdd-efc8-45ea-bdd3-5b00d901d5c3"
      },
      "source": [
        "Calcula la centralidad de grado de cada nodo en el grafo G."
      ]
    },
    {
      "cell_type": "markdown",
      "id": "3e13c93e-b6d7-4e7d-b729-6e902d75b874",
      "metadata": {
        "id": "3e13c93e-b6d7-4e7d-b729-6e902d75b874"
      },
      "source": [
        "### Dibujar el grafo:"
      ]
    },
    {
      "cell_type": "markdown",
      "id": "3d1e64b0-e01c-4c3d-9833-93037e346623",
      "metadata": {
        "id": "3d1e64b0-e01c-4c3d-9833-93037e346623"
      },
      "source": [
        "- pos: Calcula la posición de cada nodo utilizando el algoritmo de diseño de resorte.\n",
        "- tamaños_nodos: Ajusta el tamaño de cada nodo en función de su centralidad de grado.\n",
        "- nx.draw_networkx_nodes y nx.draw_networkx_edges: Dibuja los nodos y aristas del grafo.\n",
        "- plt.title: Establece el título del gráfico.\n",
        "- plt.axis('off'): Oculta los ejes.\n",
        "- plt.show(): Muestra el gráfico generado."
      ]
    },
    {
      "cell_type": "code",
      "execution_count": null,
      "id": "3f48b971-bd21-486f-84d9-c6c6f745798e",
      "metadata": {
        "id": "3f48b971-bd21-486f-84d9-c6c6f745798e"
      },
      "outputs": [],
      "source": [
        "pos = nx.spring_layout(G)\n",
        "tamaños_nodos = [v * 1000 for v in centralidad_grado.values()]\n",
        "nx.draw_networkx_nodes(G, pos, node_size=tamaños_nodos, cmap=plt.cm.Blues)\n",
        "nx.draw_networkx_edges(G, pos, alpha=0.5)\n",
        "plt.title('Grafo de Red Social con Centralidad de Grado')\n",
        "plt.axis('off')\n",
        "plt.show()"
      ]
    },
    {
      "cell_type": "markdown",
      "id": "211953f8-d823-4860-b963-c138d4dd6c86",
      "metadata": {
        "id": "211953f8-d823-4860-b963-c138d4dd6c86"
      },
      "source": [
        "1. **Nodos**:\n",
        "- Los nodos (círculos) representan entidades individuales (personas, organizaciones, etc.) dentro de la red social.\n",
        "- El tamaño de cada nodo varía, lo que sugiere que se está utilizando la centralidad de grado para representar cuántas conexiones tiene cada nodo. La centralidad de grado se refiere al número de conexiones directas (aristas) que un nodo posee. Un nodo con mayor centralidad de grado será más grande en tamaño porque tiene más conexiones.\n",
        "2. **Aristas**:\n",
        "- Las líneas que conectan los nodos (aristas) representan las relaciones o interacciones entre las entidades. Estas relaciones podrían ser, por ejemplo, amistades, colaboraciones o enlaces de comunicación.\n",
        "- La densidad de las líneas sugiere que la red está bastante conectada, con muchas relaciones entre las diferentes entidades.\n",
        "3. **Centralidad de Grado**:\n",
        "- Los nodos más grandes tienen más conexiones directas, lo que indica que son más \"centrales\" o importantes dentro de la red social.\n",
        "- Los nodos más pequeños tienen menos conexiones, lo que los hace menos centrales en esta red en particular.\n",
        "#### Conclusiones:\n",
        "- Individuos Altamente Conectados: Los nodos más grandes representan individuos que son más centrales e influyentes en la red, ya que tienen más conexiones directas con otros nodos.\n",
        "- Densidad de la Red: El número de aristas y la estructura general sugiere una red moderadamente densa, donde muchas entidades están conectadas entre sí, aunque algunos nodos tienen más conexiones que otros.\n",
        "- Influencia Social: En una red social, las entidades con alta centralidad de grado (nodos grandes) pueden tener más influencia social o acceso a recursos, dado su mayor número de conexiones."
      ]
    },
    {
      "cell_type": "markdown",
      "id": "8ffe37cb-f9af-4b30-9660-9d2c4b9d4789",
      "metadata": {
        "id": "8ffe37cb-f9af-4b30-9660-9d2c4b9d4789"
      },
      "source": [
        "# <font color='red'>Modelo Deffuant-Weisbuch: Simulación de Dinámica de Opiniones</font>\n",
        "## Introducción\n",
        "\n",
        "![alternative text](https://encrypted-tbn0.gstatic.com/images?q=tbn:ANd9GcSyC93yU9CFsXDfa0zrrg9xHr2S57sQjbA9dg&s)\n",
        "\n",
        "\n",
        "El **Modelo Deffuant-Weisbuch** es un marco computacional utilizado para simular la dinámica de la formación de opiniones dentro de una población de agentes. Es un tipo de *modelo de confianza acotada* que explora cómo los individuos ajustan sus opiniones a través de interacciones por pares bajo ciertos umbrales de tolerancia.\n",
        "\n",
        "### Conceptos Clave\n",
        "\n",
        "1. **Agentes**: Individuos en la simulación, cada uno con una opinión representada por un valor continuo, típicamente entre 0 y 1.\n",
        "2. **Opiniones**: Representaciones numéricas de las posturas de los agentes sobre un tema particular.\n",
        "3. **Confianza Acotada**: Los agentes solo interactúan con otros cuyas opiniones están dentro de cierto nivel de tolerancia.\n",
        "\n",
        "## Mecanismo del Modelo\n",
        "\n",
        "### Inicialización\n",
        "\n",
        "- Cada agente es asignado con un valor de opinión aleatorio entre 0 y 1.\n",
        "\n",
        "### Interacción por Pares\n",
        "\n",
        "- Se seleccionan aleatoriamente dos agentes, $ i $ y $ j $.\n",
        "- **Umbral de Confianza $\\epsilon $**: Si la diferencia en sus opiniones es menor que $\\epsilon$, interactúan; de lo contrario, no hacen nada.\n",
        "\n",
        "  $$\n",
        "  | o_i - o_j | < \\epsilon\n",
        "  $$\n",
        "\n",
        "### Actualización de Opiniones\n",
        "\n",
        "- Si los agentes interactúan, ajustan sus opiniones acercándose uno al otro basándose en el **parámetro de convergencia $ \\mu $**:\n",
        "\n",
        "  $$\n",
        "  \\begin{align*}\n",
        "  o_i &\\leftarrow o_i + \\mu (o_j - o_i) \\\\\\\\\n",
        "  o_j &\\leftarrow o_j + \\mu (o_i - o_j)\n",
        "  \\end{align*}\n",
        "  $$\n",
        "\n",
        "- Típicamente, $\\mu $ varía entre 0 y 0.5.\n",
        "\n",
        "## Parámetros\n",
        "\n",
        "- **Número de Agentes (N)**: Total de agentes participando en la simulación.\n",
        "- **Parámetro de Convergencia** $ \\mu \\ $: Determina el grado en que las opiniones cambian durante una interacción.\n",
        "- **Umbral de Tolerancia** $ \\epsilon \\ $: Diferencia máxima de opinión permitida para que los agentes interactúen.\n",
        "\n",
        "## Dinámica del Modelo\n",
        "\n",
        "- **Formación de Consenso**: Valores altos de $\\epsilon $ incrementan la probabilidad de que toda la población alcance una opinión común.\n",
        "- **Agrupamientos de Opinión**: Con valores bajos de $ \\epsilon $, emergen múltiples agrupamientos de opinión, representando grupos de agentes con opiniones similares.\n",
        "- **Polarización**: Las opiniones extremas pueden persistir cuando $\\epsilon$ es pequeño, llevando a una población polarizada.\n",
        "\n",
        "## Aplicaciones\n",
        "\n",
        "- **Psicología Social**: Comprender cómo las opiniones se propagan y cambian dentro de los grupos sociales.\n",
        "- **Ciencia Política**: Modelar la formación de la opinión pública y la polarización.\n",
        "- **Marketing**: Analizar cómo las preferencias de los consumidores evolucionan con el tiempo.\n",
        "\n",
        "## Representación Matemática\n",
        "\n",
        "### Regla de Actualización de Opiniones\n",
        "\n",
        "Cuando dos agentes $i $ y $j$ interactúan:\n",
        "\n",
        "- **Condición de Interacción**:\n",
        "\n",
        "  $$\n",
        "  \\text{Si } | o_i - o_j | < \\epsilon \\text{, entonces}\n",
        "  $$\n",
        "\n",
        "- **Ajuste de Opiniones**:\n",
        "\n",
        "  $$\n",
        "  \\begin{align*}\n",
        "  o_i &\\leftarrow o_i + \\mu (o_j - o_i) \\\\\\\\\n",
        "  o_j &\\leftarrow o_j + \\mu (o_i - o_j)\n",
        "  \\end{align*}\n",
        "  $$\n",
        "\n",
        "### Umbral de Confianza\n",
        "\n",
        "- La interacción ocurre solo si:\n",
        "\n",
        "  $$\n",
        "  | o_i - o_j | < \\epsilon\n",
        "  $$\n",
        "\n",
        "## Pasos de la Simulación\n",
        "\n",
        "- **Inicializar** las opiniones de todos los agentes aleatoriamente.\n",
        "- **Repetir** durante un número de iteraciones:\\\n",
        "        1. Seleccionar aleatoriamente dos agentes.\\\n",
        "        2. Verificar si pueden interactuar basándose en $\\epsilon $.\\\n",
        "        3. Actualizar sus opiniones si interactúan.\n",
        "- **Analizar** la distribución final de opiniones.\n",
        "## Visualización\n",
        "- **Histograma de Distribución de Opiniones**: Muestra cómo las opiniones se distribuyen a lo largo de la población en diferentes momentos.\n",
        "- **Agrupamiento a lo Largo del Tiempo**: La visualización puede revelar la formación de agrupamientos de opinión o la convergencia hacia el consenso.\n",
        "\n",
        "## Factores que Influyen en la Dinámica\n",
        "\n",
        "- **Valor de $\\epsilon$**:\n",
        "  - Valor grande de $ \\epsilon $: Promueve el consenso.\n",
        "  - Valor pequeño de $\\epsilon $: Conduce a múltiples agrupamientos.\n",
        "\n",
        "- **Valor de $\\mu $**:\n",
        "  - $\\mu$ alto: Convergencia de opiniones más rápida.\n",
        "  - $\\mu $ bajo: Ajustes más lentos, opiniones más estables.\n",
        "\n",
        "## Conclusión\n",
        "\n",
        "El **Modelo Deffuant-Weisbuch** proporciona un marco simple pero poderoso para estudiar la dinámica de opiniones y los efectos de las interacciones interpersonales en el comportamiento colectivo. Al ajustar parámetros como el umbral de confianza y el factor de convergencia, se pueden simular y analizar diversos fenómenos sociales relacionados con la construcción de consensos y la polarización.\n",
        "\n"
      ]
    },
    {
      "cell_type": "code",
      "execution_count": null,
      "id": "dea0b2c9-cad3-42d4-b142-8a3f47625b2a",
      "metadata": {
        "id": "dea0b2c9-cad3-42d4-b142-8a3f47625b2a"
      },
      "outputs": [],
      "source": [
        "import numpy as np\n",
        "import matplotlib.pyplot as plt\n",
        "\n",
        "# Parámetros\n",
        "N = 100  # Número de agentes en la simulación\n",
        "mu = 0.5  # Parámetro de convergencia, indica la velocidad con la que las opiniones convergen\n",
        "epsilon = 0.2  # Umbral de tolerancia, define cuánto puede diferir la opinión de dos agentes para que interactúen\n",
        "num_iterations = 100000  # Número de iteraciones para actualizar las opiniones\n",
        "\n",
        "# Inicializamos las opiniones de manera aleatoria entre 0 y 1\n",
        "opinions = np.random.rand(N)\n",
        "\n",
        "# Función para actualizar las opiniones\n",
        "def update_opinions(opinions):\n",
        "    # Seleccionamos aleatoriamente dos agentes para interactuar\n",
        "    i, j = np.random.choice(N, 2, replace=False)\n",
        "\n",
        "    # Comprobamos si la diferencia entre las opiniones de los dos agentes es menor que el umbral de tolerancia\n",
        "    if abs(opinions[i] - opinions[j]) < epsilon:\n",
        "        # Si las opiniones están lo suficientemente cerca, ambas opiniones se actualizan\n",
        "        opinions[i] = opinions[i] + mu * (opinions[j] - opinions[i])\n",
        "        opinions[j] = opinions[j] + mu * (opinions[i] - opinions[j])  # También actualizamos la opinión del segundo agente\n",
        "    return opinions  # Devolvemos el array de opiniones actualizado\n",
        "\n",
        "# Ejecutamos la simulación\n",
        "for _ in range(num_iterations):\n",
        "    opinions = update_opinions(opinions)\n",
        "\n",
        "# Graficamos la distribución final de opiniones\n",
        "plt.hist(opinions, bins=20, color='skyblue', edgecolor='black')\n",
        "plt.title('Distribución Final de Opiniones')\n",
        "plt.xlabel('Opinión')  # Etiqueta del eje X\n",
        "plt.ylabel('Número de Agentes')  # Etiqueta del eje Y\n",
        "plt.show()\n"
      ]
    },
    {
      "cell_type": "markdown",
      "id": "b63c33be-aa09-4043-b91e-595f14d9cdad",
      "metadata": {
        "id": "b63c33be-aa09-4043-b91e-595f14d9cdad"
      },
      "source": [
        "## Explicación detallada del código:\n",
        "1. **Parámetros**:\n",
        "\n",
        "- N = 100: Define el número de agentes que participan en la simulación. Cada agente tiene una \"opinión\" representada por un número entre 0 y 1.\n",
        "- mu = 0.5: Es un parámetro de convergencia que controla cuánto cambian las opiniones durante una interacción. Un valor más alto significa que las opiniones cambian más rápidamente.\n",
        "- epsilon = 0.2: Umbral de tolerancia. Si la diferencia entre las opiniones de dos agentes es menor que este valor, interactúan y ajustan sus opiniones. Si la diferencia es mayor, no interactúan.\n",
        "- num_iterations = 100000: Es el número de iteraciones de la simulación. Cuantas más iteraciones, más tiempo tienen los agentes para interactuar y cambiar sus opiniones.\n",
        "2. **Inicialización de las Opiniones**:\n",
        "- opinions = np.random.rand(N): Crea un array de N agentes, donde cada agente tiene una opinión inicial aleatoria entre 0 y 1.\n",
        "3. **Función update_opinions()**:\n",
        "\n",
        "- **Selección de agentes**: Dos agentes son seleccionados al azar para interactuar mediante np.random.choice(N, 2, replace=False).\n",
        "- **Verificación del umbral de tolerancia**: Si la diferencia entre las opiniones de los agentes es menor que epsilon, ajustan sus opiniones hacia un punto intermedio, según el parámetro de convergencia mu.\n",
        "- **Actualización de las opiniones**: Las opiniones de ambos agentes se ajustan en función de sus diferencias y mu, lo que hace que las opiniones se acerquen.\n",
        "4. **Simulación**:\n",
        "\n",
        "- Se realizan 100,000 iteraciones en las que las opiniones de los agentes se actualizan, lo que permite que el sistema evolucione con el tiempo.\n",
        "5. **Visualización**:\n",
        "\n",
        "- plt.hist(): Crea un histograma que muestra la distribución final de opiniones entre los agentes.\n",
        "- bins=20: Divide el rango de opiniones en 20 segmentos para crear el histograma.\n",
        "- color='skyblue', edgecolor='black': Estiliza la apariencia del histograma con barras de color azul claro y bordes negros.\n",
        "## Interpretación:\n",
        "Este código modela la interacción de agentes en una simulación donde sus opiniones cambian a lo largo del tiempo. La idea es que agentes con opiniones cercanas interactúan, lo que resulta en una convergencia de opiniones en el sistema. Al final de la simulación, se grafica la distribución final de opiniones de todos los agentes.\n",
        "\n",
        "Este tipo de simulación es común en estudios de dinámica de opiniones y consenso social, donde se analiza cómo las interacciones entre individuos pueden llevar a la formación de consensos o polarización en un grupo."
      ]
    },
    {
      "cell_type": "markdown",
      "id": "bad66321-41d1-47a0-ae55-fd617ba86ff4",
      "metadata": {
        "id": "bad66321-41d1-47a0-ae55-fd617ba86ff4"
      },
      "source": [
        "# <font color='red'>Modelo Presa-Depredador de Lotka-Volterra</font>\n",
        "\n",
        "![alternative text](https://encrypted-tbn0.gstatic.com/images?q=tbn:ANd9GcTe4GTeFcw6v41VTcuJIiDRppXpG9k0zsnwNA&s)\n",
        "\n",
        "## Introducción al Modelo Presa-Depredador (Lotka-Volterra)\n",
        "El modelo presa-depredador de Lotka-Volterra es uno de los modelos más clásicos y fundamentales en ecología matemática. Este modelo describe la dinámica entre dos especies que interactúan: una especie presa y una especie depredadora. Las ecuaciones de Lotka-Volterra capturan cómo las poblaciones de ambas especies cambian en el tiempo debido a sus interacciones, como la caza de presas por los depredadores y la reproducción de ambos grupos.\n",
        "\n",
        "### Contexto Ecológico\n",
        "1. **Presas**: Son los individuos que sirven como alimento para los depredadores. Aumentan en número por reproducción, pero disminuyen al ser cazadas.\n",
        "2. **Depredadores**: Son los individuos que dependen de las presas para su sustento. Su población disminuye en ausencia de presas, pero aumenta cuando tienen suficiente alimento.\\\n",
        "El sistema de ecuaciones de Lotka-Volterra modela esta interacción utilizando parámetros que controlan las tasas de nacimiento, muerte y caza.\n",
        "## Explicación Detallada del Modelo\n",
        "El modelo se compone de dos ecuaciones diferenciales que describen el cambio en las poblaciones de presas $P$ y depredadores $D$ a lo largo del tiempo $t$:\n",
        "\n",
        "\n",
        "$\\frac{dP}{dt} = \\alpha P - \\beta P D $\n",
        "\n",
        "$\\frac{dD}{dt} = \\delta P D - \\gamma D $\n",
        "\n",
        "\n",
        "Donde:\\\n",
        "\n",
        "- $\\alpha$ es la tasa de crecimiento de las presas (nacimiento de presas en ausencia de depredadores).\n",
        "- $\\beta$ es la tasa de depredación (cuántas presas son cazadas por los depredadores).\n",
        "- $\\delta$ es la tasa de reproducción de los depredadores, que depende de la cantidad de presas cazadas.\n",
        "- $\\gamma$ es la tasa de mortalidad de los depredadores (muerte en ausencia de presas).\n",
        "\n",
        "\n",
        "## Reglas y Dinámica del Modelo\n",
        "\n",
        "### Crecimiento de las presas\n",
        "Si no hay depredadores $D = 0$, la población de presas crece exponencialmente a una tasa $\\alpha$. Sin depredación, las presas se reproducen sin limitación.\n",
        "### Depredación\n",
        "Cuando las presas interactúan con depredadores, son cazadas a una tasa $\\beta$. Cuantas más presas haya, más depredadores tendrán acceso a alimento, lo que afecta la tasa de caza.\n",
        "\n",
        "### Reproducción de los depredadores\n",
        "Los depredadores se reproducen proporcionalmente a la cantidad de presas cazadas. Esta tasa de reproducción está controlada por el parámetro $\\delta$.\n",
        "\n",
        "### Mortalidad de los depredadores\n",
        "En ausencia de presas, los depredadores mueren a una tasa $\\gamma$. La falta de alimento provoca la disminución de la población de depredadores.\n",
        "### Código del Modelo Presa-Depredador\n",
        "\n",
        "El siguiente código implementa el modelo presa-depredador usando Python, utilizando la biblioteca *scipy* para resolver las ecuaciones diferenciales a lo largo del tiempo:\n",
        "\n",
        "\n"
      ]
    },
    {
      "cell_type": "code",
      "execution_count": null,
      "id": "383e48ed-056d-4f5a-b0e3-081bfc0ccfd1",
      "metadata": {
        "id": "383e48ed-056d-4f5a-b0e3-081bfc0ccfd1"
      },
      "outputs": [],
      "source": [
        "import numpy as np\n",
        "import matplotlib.pyplot as plt\n",
        "from scipy.integrate import odeint\n",
        "\n",
        "# Parámetros\n",
        "alpha = 0.1   # Tasa de nacimiento de las presas\n",
        "beta = 0.02   # Tasa de depredación (caza de presas por los depredadores)\n",
        "delta = 0.01  # Tasa de reproducción de los depredadores (depende de la cantidad de presas)\n",
        "gamma = 0.1   # Tasa de muerte de los depredadores\n",
        "\n",
        "# Poblaciones iniciales\n",
        "presa0 = 40      # Cantidad inicial de presas\n",
        "depredador0 = 9  # Cantidad inicial de depredadores\n",
        "\n",
        "# Puntos de tiempo\n",
        "t = np.linspace(0, 200, 1000)  # Tiempo desde 0 hasta 200, con 1000 puntos en total\n",
        "\n",
        "# Ecuaciones de Lotka-Volterra (presa-depredador)\n",
        "def deriv(y, t):\n",
        "    presa, depredador = y\n",
        "    dpresa_dt = alpha * presa - beta * presa * depredador  # Cambio en la población de presas\n",
        "    ddepredador_dt = delta * presa * depredador - gamma * depredador  # Cambio en la población de depredadores\n",
        "    return dpresa_dt, ddepredador_dt  # Devolvemos las tasas de cambio\n",
        "\n",
        "# Vector de condiciones iniciales\n",
        "y0 = presa0, depredador0\n",
        "\n",
        "# Integramos las ecuaciones a lo largo del tiempo\n",
        "resultado = odeint(deriv, y0, t)\n",
        "presa, depredador = resultado.T  # Transponemos el resultado para obtener poblaciones de presas y depredadores\n",
        "\n",
        "# Graficamos los resultados\n",
        "plt.figure(figsize=(10,5))  # Definimos el tamaño de la figura\n",
        "plt.plot(t, presa, 'g-', label='Presas')  # Curva verde para las presas\n",
        "plt.plot(t, depredador, 'r-', label='Depredadores')  # Curva roja para los depredadores\n",
        "plt.title('Modelo Presa-Depredador')  # Título de la gráfica\n",
        "plt.xlabel('Tiempo')  # Etiqueta del eje X (tiempo)\n",
        "plt.ylabel('Población')  # Etiqueta del eje Y (población)\n",
        "plt.legend()  # Muestra la leyenda\n",
        "plt.grid(True)  # Añade una cuadrícula\n",
        "plt.show()  #\n"
      ]
    },
    {
      "cell_type": "markdown",
      "id": "e08e0048-2fb8-4254-b7aa-94dc935273df",
      "metadata": {
        "id": "e08e0048-2fb8-4254-b7aa-94dc935273df"
      },
      "source": [
        "### Interpretación de Resultados\n",
        "\n",
        "En el gráfico, las poblaciones de presas y depredadores oscilan en el tiempo. Cuando hay muchas presas, los depredadores tienen más alimento y, por lo tanto, su población aumenta. Sin embargo, a medida que la población de depredadores crece, cazan más presas, lo que eventualmente reduce la población de presas. Esto provoca una disminución en la población de depredadores debido a la falta de alimento, y así el ciclo continúa.\\\n",
        "\n",
        "Este comportamiento cíclico es característico del modelo presa-depredador de Lotka-Volterra, que captura de manera efectiva la dinámica de interacción entre las especies en un ecosistema.\n",
        "\n",
        "## Conclusión\n",
        "El modelo de Lotka-Volterra proporciona una descripción simple pero poderosa de la interacción entre especies en un ecosistema. A pesar de su simplicidad, este modelo es capaz de capturar el comportamiento dinámico de muchos sistemas ecológicos reales y ha sido la base de muchos estudios en biología y ecología.\n"
      ]
    },
    {
      "cell_type": "markdown",
      "id": "2ad6d1dc-2f95-41a4-8a27-4ac4c546a709",
      "metadata": {
        "id": "2ad6d1dc-2f95-41a4-8a27-4ac4c546a709"
      },
      "source": [
        "# <font color='red'>Introducción a los Autómatas Celulares</font>\n",
        "![alternative text](https://blogger.googleusercontent.com/img/b/R29vZ2xl/AVvXsEgm32qSkn341IAO3hnBHAA__s9ePtRkt2tBmyBvzjn8Crnl6UWkwWEL506TciuXnuBhBWFor03KoZqoSu5JMdkXlen9HkPfWv1Pcu76Ae5kxPJoeWdHhWTTTVazjog7EBdUIBVtXVc1j8qj/s1600/aut%25C3%25B3mata+celular.jpg)\n",
        "\n",
        "\n",
        "Los autómatas celulares son modelos computacionales que consisten en una \"rejilla\" de celdas, donde cada celda puede estar en uno de un número finito de estados. En el contexto de tráfico vehicular, una celda puede estar vacía o contener un vehículo. Los estados de las celdas cambian de acuerdo con un conjunto de reglas que dependen del estado de las celdas vecinas.\\\n",
        "- **Ejemplo básico de un autómata celular unidimensional**\\\n",
        "Imagina una carretera recta representada por una fila de celdas. Cada celda puede estar en uno de dos estados:\n",
        "1. Vacía.\n",
        "2. Ocupada por un vehículo.\n",
        "- Podemos simular este sistema en Python:"
      ]
    },
    {
      "cell_type": "code",
      "execution_count": null,
      "id": "37ca9510-cf31-42b2-87e6-79fca0b6f581",
      "metadata": {
        "id": "37ca9510-cf31-42b2-87e6-79fca0b6f581"
      },
      "outputs": [],
      "source": [
        "import numpy as np\n",
        "import matplotlib.pyplot as plt\n",
        "\n",
        "# Carretera con 10 celdas, 1 significa que la celda está ocupada por un vehículo, 0 está vacía.\n",
        "road = np.zeros(10, dtype=int)\n",
        "road[4] = 1  # Colocamos un vehículo en la posición 4\n",
        "\n",
        "print(\"Estado inicial de la carretera:\")\n",
        "print(road)\n",
        "\n",
        "# Visualización\n",
        "plt.figure(figsize=(6, 1))\n",
        "plt.imshow(road[np.newaxis, :], cmap=\"binary\", aspect=\"auto\")\n",
        "plt.title(\"Estado inicial de la carretera\")\n",
        "plt.show()\n"
      ]
    },
    {
      "cell_type": "markdown",
      "id": "be35c52f-e3ee-4120-9005-508eb6e28339",
      "metadata": {
        "id": "be35c52f-e3ee-4120-9005-508eb6e28339"
      },
      "source": [
        "## Actualización de Estados: Movimiento\n",
        "En este ejemplo, definimos que si una celda está ocupada por un vehículo, y la celda de la derecha está vacía, el vehículo se mueve a la derecha en el siguiente paso.\n",
        "\n",
        "Ejemplo de movimiento simple en un autómata celular"
      ]
    },
    {
      "cell_type": "code",
      "execution_count": null,
      "id": "691da8f2-a616-4ad6-baa1-f6945fa339a8",
      "metadata": {
        "id": "691da8f2-a616-4ad6-baa1-f6945fa339a8"
      },
      "outputs": [],
      "source": [
        "import numpy as np\n",
        "import matplotlib.pyplot as plt\n",
        "\n",
        "def update_road_with_periodic_boundaries(road):\n",
        "    length = len(road)\n",
        "    new_road = np.zeros_like(road)  # Creamos una nueva carretera vacía del mismo tamaño\n",
        "\n",
        "    for i in range(length):\n",
        "        if road[i] == 1:  # Si la celda actual tiene un vehículo\n",
        "            next_pos = (i + 1) % length  # Condición periódica: la posición se \"reinicia\" al llegar al borde\n",
        "            if road[next_pos] == 0:  # Si la celda siguiente está vacía\n",
        "                new_road[next_pos] = 1  # El vehículo se mueve a la siguiente celda\n",
        "            else:\n",
        "                new_road[i] = 1  # Si la siguiente celda está ocupada, el vehículo se queda en su lugar\n",
        "\n",
        "    return new_road\n",
        "\n",
        "# Estado inicial de la carretera (carretera circular con 10 celdas)\n",
        "road = np.zeros(10, dtype=int)\n",
        "road[2] = 1  # Colocamos un vehículo en la posición 2\n",
        "road[7] = 1  # Colocamos otro vehículo en el borde derecho\n",
        "\n",
        "print(\"Estado inicial de la carretera (condiciones periódicas):\")\n",
        "print(road)\n",
        "\n",
        "# Visualizamos el estado inicial\n",
        "plt.figure(figsize=(6, 1))\n",
        "plt.imshow(road[np.newaxis, :], cmap=\"binary\", aspect=\"auto\")\n",
        "plt.title(\"Estado inicial de la carretera\")\n",
        "plt.show()\n",
        "\n",
        "# Ejecutamos varias actualizaciones\n",
        "for _ in range(5):\n",
        "    road = update_road_with_periodic_boundaries(road)\n",
        "    print(\"Carretera después del movimiento:\")\n",
        "    print(road)\n",
        "\n",
        "    # Visualizamos el estado después de cada paso\n",
        "    plt.figure(figsize=(6, 1))\n",
        "    plt.imshow(road[np.newaxis, :], cmap=\"binary\", aspect=\"auto\")\n",
        "    plt.title(\"Carretera después del movimiento\")\n",
        "    plt.show()\n"
      ]
    },
    {
      "cell_type": "markdown",
      "id": "4ad977c9-3942-4c0e-87be-e23196c58e75",
      "metadata": {
        "id": "4ad977c9-3942-4c0e-87be-e23196c58e75"
      },
      "source": [
        "## Reglas Aleatorias: Introducción al factor de aleatoriedad\n",
        "En la realidad, el comportamiento de los conductores no es siempre determinista. Para capturar esta variabilidad, podemos introducir aleatoriedad. En cada paso, existe una probabilidad de que un vehículo reduzca su velocidad, incluso si tiene espacio para avanzar.\\\n",
        "**Ejemplo con aleatoriedad en el movimiento**\\\n",
        "Añadimos una probabilidad $p$ de que el vehículo no se mueva, aunque la celda de la derecha esté vacía."
      ]
    },
    {
      "cell_type": "code",
      "execution_count": null,
      "id": "382f6b9d-c0f5-4de7-8345-eb2b8a366820",
      "metadata": {
        "id": "382f6b9d-c0f5-4de7-8345-eb2b8a366820"
      },
      "outputs": [],
      "source": [
        "import random\n",
        "\n",
        "def update_road_with_randomness(road, prob_slowdown=0.3):\n",
        "    length = len(road)\n",
        "    new_road = np.zeros_like(road)  # Creamos una nueva carretera vacía del mismo tamaño\n",
        "\n",
        "    for i in range(length):\n",
        "        if road[i] == 1:  # Si la celda actual tiene un vehículo\n",
        "            next_pos = (i + 1) % length  # Condición periódica: la posición se \"reinicia\" al llegar al borde\n",
        "\n",
        "            # Aleatoriedad: con probabilidad prob_slowdown, el vehículo no se mueve\n",
        "            if road[next_pos] == 0:  # Si la celda siguiente está vacía\n",
        "                if random.random() > prob_slowdown:  # Con probabilidad p, el vehículo no se mueve\n",
        "                    new_road[next_pos] = 1\n",
        "                else:\n",
        "                    new_road[i] = 1  # El vehículo se queda en su posición si no se mueve\n",
        "            else:\n",
        "                new_road[i] = 1  # Si la siguiente celda está ocupada, el vehículo se queda en su lugar\n",
        "\n",
        "    return new_road\n",
        "\n",
        "# Estado inicial de la carretera (carretera circular con 10 celdas)\n",
        "road = np.zeros(10, dtype=int)\n",
        "road[2] = 1  # Colocamos un vehículo en la posición 2\n",
        "road[8] = 1  # Colocamos otro vehículo en la posición 8\n",
        "\n",
        "print(\"Estado inicial de la carretera (aleatoriedad en el movimiento):\")\n",
        "print(road)\n",
        "\n",
        "# Visualización del estado inicial\n",
        "plt.figure(figsize=(6, 1))\n",
        "plt.imshow(road[np.newaxis, :], cmap=\"binary\", aspect=\"auto\")\n",
        "plt.title(\"Estado inicial de la carretera\")\n",
        "plt.show()\n",
        "\n",
        "# Ejecutamos múltiples pasos con aleatoriedad\n",
        "num_steps = 10\n",
        "for step in range(num_steps):\n",
        "    road = update_road_with_randomness(road, prob_slowdown=0.3)  # Probabilidad de desaceleración del 30%\n",
        "    print(f\"Carretera después del movimiento - Paso {step + 1}:\")\n",
        "    print(road)\n",
        "\n",
        "    # Visualizamos el estado después de cada paso\n",
        "    plt.figure(figsize=(6, 1))\n",
        "    plt.imshow(road[np.newaxis, :], cmap=\"binary\", aspect=\"auto\")\n",
        "    plt.title(f\"Carretera - Paso {step + 1}\")\n",
        "    plt.show()\n"
      ]
    },
    {
      "cell_type": "markdown",
      "id": "3778501a-4baf-45ce-8a0d-1a35312cd072",
      "metadata": {
        "id": "3778501a-4baf-45ce-8a0d-1a35312cd072"
      },
      "source": [
        "# <font color='red'>Modelo de Tráfico de Nagel-Schreckenberg</font>\n",
        "![alternative text](https://www.elsoldemexico.com.mx/metropoli/cdmx/rd1izt-bloqueo-en-mexico-pachuca.jpg/ALTERNATES/LANDSCAPE_768/bloqueo%20en%20m%C3%A9xico%20pachuca.jpg)\n",
        "\n",
        "\n",
        "## Introducción\n",
        "El modelo de tráfico de Nagel-Schreckenberg (NaSch) es un modelo basado en autómatas celulares que simula el comportamiento de vehículos en una carretera. Fue propuesto por Kai Nagel y Michael Schreckenberg en 1992, y es ampliamente utilizado para estudiar el flujo de tráfico vehicular debido a su simplicidad y capacidad para reproducir fenómenos como los embotellamientos de tráfico. El modelo se basa en la discretización tanto del espacio como del tiempo, representando una carretera unidireccional como una serie de celdas en las que los vehículos pueden moverse de acuerdo con ciertas reglas.\n",
        "\n",
        "## Descripción del modelo\n",
        "El modelo de Nagel-Schreckenberg consiste en una carretera unidimensional dividida en celdas. Cada celda puede estar vacía o contener un único vehículo. El tiempo también se discretiza en pasos, y en cada paso de tiempo, los vehículos actualizan su velocidad y posición de acuerdo con las siguientes reglas.\n",
        "\n",
        "### Pasos del modelo\n",
        "Cada vehículo sigue una serie de cuatro reglas básicas durante cada paso de tiempo:\n",
        "\n",
        "1. **Aceleración**: Si la velocidad del vehículo es menor que una velocidad máxima predeterminada $v_{\\text{max}}$, la velocidad se incrementa en una unidad: $ v_i \\rightarrow \\min(v_i + 1, v_{\\text{max}})$\n",
        "    \n",
        "2. **Frenado (evitar colisiones)**: Si el vehículo está demasiado cerca del vehículo de adelante, es decir, la distancia al vehículo precedente es menor que la velocidad actual, entonces la velocidad se reduce para evitar una colisión:\n",
        "   $\n",
        "    v_i \\rightarrow \\min(v_i, d_i - 1)$\n",
        "    donde $d_i$ es la distancia entre el vehículo $i$ y el vehículo de adelante.\n",
        "\n",
        "3. **Aleatoriedad (factor de desaceleración)**: Con una probabilidad $p$, el vehículo puede reducir su velocidad en una unidad, lo que representa el comportamiento errático de los conductores o perturbaciones aleatorias en el tráfico: $v_i \\rightarrow \\max(v_i - 1, 0)$ con probabilidad $p$\n",
        "    \n",
        "4. **Movimiento**: Después de actualizar la velocidad, el vehículo avanza una cantidad de celdas igual a su velocidad actual:$x_i \\rightarrow x_i + v_i$\n",
        "\n",
        "## Beneficios del modelo\n",
        "El modelo de Nagel-Schreckenberg tiene varios beneficios que lo han hecho muy popular en el estudio del tráfico vehicular:\n",
        "\n",
        "1. **Simplicidad**: Es un modelo simple que puede ser implementado de manera eficiente en simulaciones computacionales. A pesar de su simplicidad, es capaz de reproducir fenómenos complejos observados en el tráfico real, como la formación de embotellamientos.\n",
        "2. **Flexibilidad**: El modelo puede ser fácilmente adaptado y extendido para estudiar diferentes configuraciones de tráfico, como carreteras con múltiples carriles, semáforos, o intersecciones.\n",
        "3. **Fenómenos emergentes**: A pesar de las reglas locales simples, el modelo muestra un comportamiento emergente como la transición entre estados libres de tráfico y congestión, lo cual es una característica esencial del tráfico vehicular real.\n",
        "## Defectos del modelo\n",
        "Aunque el modelo de Nagel-Schreckenberg es muy útil, también presenta algunas limitaciones:\n",
        "\n",
        "1. **Simplificación excesiva**: La representación de los vehículos y la carretera es bastante simplificada. Por ejemplo, los vehículos son tratados como objetos puntuales, lo que no es realista en ciertas situaciones, y no se tienen en cuenta las diferentes características individuales de los conductores o vehículos.\n",
        "2. **Factor de desaceleración constante**: La probabilidad de desaceleración aleatoria $p$ es constante para todos los vehículos en todas las situaciones, lo que limita la capacidad del modelo para capturar diferencias en el comportamiento de los conductores en distintas circunstancias.\n",
        "3. **Capacidades de predicción limitadas**: Aunque el modelo puede reproducir algunos fenómenos del tráfico real, no siempre es capaz de predecir correctamente el comportamiento del tráfico en situaciones más complejas, como los efectos de los cambios en la infraestructura o las regulaciones de tráfico.\n",
        "\n",
        "## Reglas del modelo\n",
        "Para resumir, las reglas del modelo de Nagel-Schreckenberg son las siguientes:\n",
        "\n",
        "1. **Aceleración**: Si $v_i < v_{\\text{max}}$, entonces $v_i \\rightarrow v_i + 1$.\n",
        "2. **Frenado**: Si la distancia $d_i$ al vehículo de adelante es menor que la velocidad actual, $v_i \\rightarrow \\min(v_i, d_i - 1)$.\n",
        "3. **Desaceleración aleatoria**: Con una probabilidad $p$, el vehículo reduce su velocidad en una unidad, es decir, $v_i \\rightarrow \\max(v_i - 1, 0)$.\n",
        "4. **Movimiento**: El vehículo avanza $x_i \\rightarrow x_i + v_i$ celdas.\n",
        "\n",
        "# Conclusión\n",
        "El modelo de Nagel-Schreckenberg ha sido muy influyente en el campo de la dinámica del tráfico vehicular debido a su simplicidad y capacidad para capturar fenómenos fundamentales del tráfico. A pesar de sus limitaciones, sigue siendo una herramienta poderosa para estudiar el tráfico en una variedad de contextos, y sus extensiones han permitido su aplicación en simulaciones más realistas.\n",
        "\n"
      ]
    },
    {
      "cell_type": "code",
      "execution_count": null,
      "id": "268ba8e0-01a7-4311-9370-c2683989b7be",
      "metadata": {
        "id": "268ba8e0-01a7-4311-9370-c2683989b7be"
      },
      "outputs": [],
      "source": [
        "import numpy as np\n",
        "import matplotlib.pyplot as plt\n",
        "import matplotlib.animation as animation\n",
        "\n",
        "# Parámetros de la simulación\n",
        "road_length = 100  # Longitud de la carretera (número de celdas)\n",
        "max_speed = 5  # Velocidad máxima de los autos\n",
        "density = 0.4  # Densidad de autos en la carretera (porcentaje de celdas ocupadas)\n",
        "prob_slowdown = 0.4  # Probabilidad de que un auto reduzca la velocidad aleatoriamente\n",
        "num_steps = 100  # Número de pasos de tiempo en la simulación\n",
        "\n",
        "# Inicializar la carretera\n",
        "num_cars = int(road_length * density)  # Calculamos cuántos autos hay según la densidad\n",
        "road = -np.ones(road_length, dtype=int)  # Carretera vacía, -1 representa una celda vacía\n",
        "car_positions = np.random.choice(road_length, num_cars, replace=False)  # Elegimos posiciones aleatorias para los autos\n",
        "\n",
        "# Asignamos velocidades aleatorias a los autos en las posiciones seleccionadas\n",
        "for position in car_positions:\n",
        "    road[position] = np.random.randint(0, max_speed + 1)\n",
        "\n",
        "# Función para actualizar el estado de la carretera en cada paso de tiempo\n",
        "def update(road):\n",
        "    new_road = -np.ones_like(road)  # Creamos una nueva carretera vacía para actualizar los autos\n",
        "    for i in range(len(road)):\n",
        "        if road[i] >= 0:  # Si hay un auto en la posición 'i' (no es -1)\n",
        "            v = road[i]  # Obtenemos la velocidad actual del auto\n",
        "\n",
        "            # 1. Aceleración: Si la velocidad es menor que la máxima, aceleramos el auto\n",
        "            if v < max_speed:\n",
        "                v += 1\n",
        "\n",
        "            # 2. Reducción de velocidad debido a otros autos\n",
        "            distance = 1  # Inicializamos la distancia al próximo auto\n",
        "            while road[(i + distance) % road_length] == -1 and distance <= v:\n",
        "                distance += 1  # Aumentamos la distancia mientras no haya autos delante\n",
        "            v = min(v, distance - 1)  # La velocidad se ajusta para no chocar con el auto de enfrente\n",
        "\n",
        "            # 3. Reducción de velocidad aleatoria: Algunos autos pueden reducir su velocidad al azar\n",
        "            if np.random.rand() < prob_slowdown and v > 0:\n",
        "                v -= 1  # Reducimos la velocidad si se cumple la probabilidad\n",
        "\n",
        "            # 4. Mover el auto a su nueva posición\n",
        "            new_position = (i + v) % road_length  # Calculamos la nueva posición del auto\n",
        "            new_road[new_position] = v  # Colocamos el auto en la nueva posición con su velocidad\n",
        "    return new_road  # Devolvemos el nuevo estado de la carretera\n",
        "\n",
        "# Simulación\n",
        "road_states = []  # Lista para guardar el estado de la carretera en cada paso de tiempo\n",
        "for _ in range(num_steps):\n",
        "    road_states.append(road.copy())  # Guardamos el estado actual de la carretera\n",
        "    road = update(road)  # Actualizamos la carretera para el siguiente paso\n",
        "\n",
        "# Visualización\n",
        "fig, ax = plt.subplots()\n",
        "im = ax.imshow(road_states, aspect='auto', cmap='Greys', interpolation='nearest')\n",
        "ax.set_xlabel('Posición')  # Etiqueta del eje X\n",
        "ax.set_ylabel('Paso de Tiempo')  # Etiqueta del eje Y\n",
        "ax.set_title('Simulación de Flujo de Tráfico')  # Título del gráfico\n",
        "plt.show()\n"
      ]
    },
    {
      "cell_type": "markdown",
      "id": "a7d39ebd-8a7a-4c61-a51b-57888a7d5a97",
      "metadata": {
        "id": "a7d39ebd-8a7a-4c61-a51b-57888a7d5a97"
      },
      "source": [
        "##### Análisis de Simulación de Flujo de Tráfico\n",
        "###### Introducción\n",
        "\n",
        "La imagen presentada representa una *simulación de flujo de tráfico* en una carretera, probablemente utilizando el *modelo de Nagel-Schreckenberg*, un modelo comúnmente utilizado para estudiar la dinámica del tráfico vehicular mediante autómatas celulares.\n",
        "- **Eje X (Posición)**: Representa la posición de los vehículos en la carretera. Cada columna del gráfico corresponde a una celda en la simulación, que puede estar vacía o ocupada por un vehículo.\n",
        "- **Eje Y (Paso de Tiempo)**: Representa los diferentes momentos en el tiempo. Cada fila corresponde a un paso de tiempo, y la imagen muestra cómo los vehículos se mueven o se detienen a lo largo del tiempo.\n",
        "###### Patrón en Blanco y Negro\n",
        "- **Celdas Negras**: Representan las posiciones donde hay vehículos. Cuando se observa una celda negra, significa que en esa posición de la carretera (columna) y en ese paso de tiempo (fila), había un vehículo.\n",
        "- **Celdas Blancas/Grises**: Representan las posiciones vacías en la carretera. Es decir, no hay ningún vehículo en esas posiciones en ese momento.\n",
        "##### Interpretación General\n",
        "\n",
        "En las primeras filas (tiempos iniciales), los vehículos están distribuidos a lo largo de la carretera. A medida que avanzamos en el eje del tiempo (de arriba hacia abajo), se puede observar que algunos vehículos se mueven (las líneas diagonales negras indican vehículos que avanzan con el tiempo).\n",
        "\n",
        "Hay ciertas zonas en las que los vehículos parecen detenerse (áreas donde las líneas negras se vuelven más verticales, indicando que el vehículo se ha detenido o está avanzando lentamente). También es visible que algunos vehículos comienzan a moverse nuevamente después de estar detenidos, lo que sugiere que las condiciones de congestión han mejorado.\n",
        "###### Fenómenos Observados\n",
        "- **Flujo de Vehículos**: Las líneas diagonales de celdas negras indican que los vehículos están avanzando de manera fluida. Cuanto más inclinada es la línea, más rápido se mueve el vehículo.\n",
        "- **Congestión**: Cuando las celdas negras forman una línea más vertical (menos inclinada), significa que los vehículos se están moviendo lentamente o se han detenido debido a la congestión. Este es un fenómeno común en el tráfico real, donde los vehículos se detienen en embotellamientos.\n",
        "- **Espacios Vacíos**: Las áreas blancas o grises entre las celdas negras representan huecos entre los vehículos. Estas zonas pueden corresponder a situaciones en las que no hay vehículos en esa parte de la carretera o donde los vehículos están suficientemente espaciados.\n",
        "Este tipo de gráfico se utiliza comúnmente en estudios de *dinámica del tráfico* para analizar cómo se propagan las congestiones y cómo los vehículos interactúan en la carretera. Los fenómenos de aceleración, desaceleración y el efecto de las condiciones de frontera (como vehículos que entran y salen del sistema) son claramente visibles.\n",
        "\n",
        "En un contexto más amplio, este gráfico podría estar ilustrando cómo las decisiones de los conductores (como acelerar o frenar) afectan el flujo del tráfico en un sistema controlado.\n",
        "- *Flujo de Tráfico*: Los vehículos se mueven de manera fluida cuando las líneas son inclinadas.\n",
        "- *Congestión*: Los vehículos se ralentizan o detienen cuando las líneas son más verticales.\n",
        "- *Espacios Vacíos*: Las áreas en blanco representan espacios entre los vehículos en la carretera.\n",
        "Este gráfico es una herramienta útil para visualizar cómo se comporta el tráfico vehicular bajo diferentes condiciones y cómo los patrones de congestión y aceleración se manifiestan en el tiempo.\n",
        "\n",
        "\n"
      ]
    },
    {
      "cell_type": "code",
      "execution_count": null,
      "id": "a25319d7-e6db-4a0c-a66e-1f5a6e3cae34",
      "metadata": {
        "id": "a25319d7-e6db-4a0c-a66e-1f5a6e3cae34"
      },
      "outputs": [],
      "source": []
    }
  ],
  "metadata": {
    "kernelspec": {
      "display_name": "Python 3 (ipykernel)",
      "language": "python",
      "name": "python3"
    },
    "language_info": {
      "codemirror_mode": {
        "name": "ipython",
        "version": 3
      },
      "file_extension": ".py",
      "mimetype": "text/x-python",
      "name": "python",
      "nbconvert_exporter": "python",
      "pygments_lexer": "ipython3",
      "version": "3.12.4"
    },
    "colab": {
      "provenance": []
    }
  },
  "nbformat": 4,
  "nbformat_minor": 5
}